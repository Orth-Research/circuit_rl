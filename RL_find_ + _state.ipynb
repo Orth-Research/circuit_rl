{
 "cells": [
  {
   "cell_type": "code",
   "execution_count": 1,
   "metadata": {},
   "outputs": [
    {
     "output_type": "stream",
     "name": "stdout",
     "text": [
      "Found |+> state!!\nRY(pi/2) 0\n\n******************************\n"
     ]
    }
   ],
   "source": [
    "import gym\n",
    "import gym.spaces\n",
    "import numpy as np\n",
    "from pyquil import get_qc, Program\n",
    "from pyquil.api import WavefunctionSimulator\n",
    "from pyquil.gates import *\n",
    "\n",
    "\n",
    "# Do a sanity check first\n",
    "\n",
    "# identify discrete gates on qubit 0\n",
    "num_angles = 5\n",
    "angles = np.linspace(0.0, 2 * np.pi, num_angles)\n",
    "gates = [RY(theta, 0) for theta in angles]\n",
    "gates += [RZ(theta, 0) for theta in angles]\n",
    "\n",
    "wfn_sim = WavefunctionSimulator()\n",
    "for g in gates:\n",
    "    p = Program(g)\n",
    "    wfn = wfn_sim.wavefunction(p)\n",
    "    amps = wfn.amplitudes\n",
    "    if np.allclose(amps, np.sqrt(np.array([0.5, 0.5])), atol=1e-2):\n",
    "        print(\"Found |+> state!!\")\n",
    "        print(p)\n",
    "        print(\"*\" * 30)"
   ]
  },
  {
   "cell_type": "code",
   "execution_count": 4,
   "metadata": {},
   "outputs": [
    {
     "output_type": "execute_result",
     "data": {
      "text/plain": [
       "[<Gate RY(0) 0>,\n",
       " <Gate RY(pi/2) 0>,\n",
       " <Gate RY(pi) 0>,\n",
       " <Gate RY(3*pi/2) 0>,\n",
       " <Gate RY(2*pi) 0>,\n",
       " <Gate RZ(0) 0>,\n",
       " <Gate RZ(pi/2) 0>,\n",
       " <Gate RZ(pi) 0>,\n",
       " <Gate RZ(3*pi/2) 0>,\n",
       " <Gate RZ(2*pi) 0>]"
      ]
     },
     "metadata": {},
     "execution_count": 4
    }
   ],
   "source": [
    "gates"
   ]
  },
  {
   "cell_type": "code",
   "execution_count": 27,
   "metadata": {},
   "outputs": [],
   "source": [
    "class OneQEnv(gym.Env):\n",
    "    \n",
    "    def __init__(self, gamma=0.8, max_steps=20):\n",
    "        # discount factor\n",
    "        self.gamma = gamma\n",
    "        # initialize a WavefunctionSimulator\n",
    "        self.wfn_sim = WavefunctionSimulator()\n",
    "        # identify the observation and action spaces\n",
    "        self.observation_space = gym.spaces.Box(-1.0, 1.0, shape=(4,), dtype=float)\n",
    "        self._actions = gates\n",
    "        self.action_space = gym.spaces.Discrete(len(self._actions))\n",
    "        # the state will be the wavefunction probs\n",
    "        self._program = Program(I(0))\n",
    "        self._wfn = self.wfn_sim.wavefunction(self._program)\n",
    "#         self.state = self._wfn.amplitudes\n",
    "        self.state = np.concatenate([self._wfn.amplitudes.real, self._wfn.amplitudes.imag])\n",
    "        # self.state = self._wfn.amplitudes\n",
    "        self.current_step = 0\n",
    "        self.max_steps = max_steps\n",
    "        self.info = {}\n",
    "        \n",
    "    def step(self, action):\n",
    "        gate = self._actions[action]\n",
    "        self._program += gate\n",
    "        self._wfn = self.wfn_sim.wavefunction(self._program)\n",
    "        self.state = np.concatenate([self._wfn.amplitudes.real, self._wfn.amplitudes.imag])\n",
    "        self.current_step += 1\n",
    "        # detect if found terminal state\n",
    "        if np.allclose(self.state, np.array([0.5, 0.5, -0.5, 0.5]), atol=1e-2):\n",
    "            reward = 1.0\n",
    "            done = True\n",
    "\n",
    "        elif self.current_step >= self.max_steps:\n",
    "            reward = 0.0\n",
    "            done = True\n",
    "            \n",
    "        else:\n",
    "            reward = 0.0\n",
    "            done = False\n",
    "        \n",
    "            \n",
    "        return self.state, reward, done, self.info\n",
    "    \n",
    "    def reset(self):\n",
    "        self._program = Program(I(0))\n",
    "        self._wfn = self.wfn_sim.wavefunction(self._program)\n",
    "        self.state = np.concatenate([self._wfn.amplitudes.real, self._wfn.amplitudes.imag])\n",
    "        self.current_step = 0\n",
    "        \n",
    "        return self.state"
   ]
  },
  {
   "cell_type": "code",
   "execution_count": 34,
   "metadata": {},
   "outputs": [],
   "source": [
    "# from stable_baselines.common.policies import MlpPolicy\n",
    "from stable_baselines.deepq.policies import MlpPolicy\n",
    "from stable_baselines.common.vec_env import DummyVecEnv\n",
    "from stable_baselines import PPO2, DQN"
   ]
  },
  {
   "cell_type": "code",
   "execution_count": 35,
   "metadata": {
    "scrolled": true
   },
   "outputs": [
    {
     "output_type": "stream",
     "name": "stderr",
     "text": [
      "WARNING - Entity <bound method Flatten.call of <tensorflow.python.layers.core.Flatten object at 0x0000024E900CEEF0>> could not be transformed and will be executed as-is. Please report this to the AutgoGraph team. When filing the bug, set the verbosity to 10 (on Linux, `export AUTOGRAPH_VERBOSITY=10`) and attach the full output. Cause: converting <bound method Flatten.call of <tensorflow.python.layers.core.Flatten object at 0x0000024E900CEEF0>>: AttributeError: module 'gast' has no attribute 'Num'\n",
      "WARNING - Entity <bound method Dense.call of <tensorflow.python.layers.core.Dense object at 0x0000024E900F64E0>> could not be transformed and will be executed as-is. Please report this to the AutgoGraph team. When filing the bug, set the verbosity to 10 (on Linux, `export AUTOGRAPH_VERBOSITY=10`) and attach the full output. Cause: converting <bound method Dense.call of <tensorflow.python.layers.core.Dense object at 0x0000024E900F64E0>>: AssertionError: Bad argument number for Name: 3, expecting 4\n",
      "WARNING: Entity <bound method Flatten.call of <tensorflow.python.layers.core.Flatten object at 0x0000024E900CEEF0>> could not be transformed and will be executed as-is. Please report this to the AutgoGraph team. When filing the bug, set the verbosity to 10 (on Linux, `export AUTOGRAPH_VERBOSITY=10`) and attach the full output. Cause: converting <bound method Flatten.call of <tensorflow.python.layers.core.Flatten object at 0x0000024E900CEEF0>>: AttributeError: module 'gast' has no attribute 'Num'\n",
      "WARNING: Entity <bound method Dense.call of <tensorflow.python.layers.core.Dense object at 0x0000024E900F64E0>> could not be transformed and will be executed as-is. Please report this to the AutgoGraph team. When filing the bug, set the verbosity to 10 (on Linux, `export AUTOGRAPH_VERBOSITY=10`) and attach the full output. Cause: converting <bound method Dense.call of <tensorflow.python.layers.core.Dense object at 0x0000024E900F64E0>>: AssertionError: Bad argument number for Name: 3, expecting 4\n",
      "WARNING - Entity <bound method Dense.call of <tensorflow.python.layers.core.Dense object at 0x0000024E90319048>> could not be transformed and will be executed as-is. Please report this to the AutgoGraph team. When filing the bug, set the verbosity to 10 (on Linux, `export AUTOGRAPH_VERBOSITY=10`) and attach the full output. Cause: converting <bound method Dense.call of <tensorflow.python.layers.core.Dense object at 0x0000024E90319048>>: AssertionError: Bad argument number for Name: 3, expecting 4\n",
      "WARNING - Entity <bound method Dense.call of <tensorflow.python.layers.core.Dense object at 0x0000024E900CEF28>> could not be transformed and will be executed as-is. Please report this to the AutgoGraph team. When filing the bug, set the verbosity to 10 (on Linux, `export AUTOGRAPH_VERBOSITY=10`) and attach the full output. Cause: converting <bound method Dense.call of <tensorflow.python.layers.core.Dense object at 0x0000024E900CEF28>>: AssertionError: Bad argument number for Name: 3, expecting 4\n",
      "WARNING: Entity <bound method Dense.call of <tensorflow.python.layers.core.Dense object at 0x0000024E90319048>> could not be transformed and will be executed as-is. Please report this to the AutgoGraph team. When filing the bug, set the verbosity to 10 (on Linux, `export AUTOGRAPH_VERBOSITY=10`) and attach the full output. Cause: converting <bound method Dense.call of <tensorflow.python.layers.core.Dense object at 0x0000024E90319048>>: AssertionError: Bad argument number for Name: 3, expecting 4\n",
      "WARNING: Entity <bound method Dense.call of <tensorflow.python.layers.core.Dense object at 0x0000024E900CEF28>> could not be transformed and will be executed as-is. Please report this to the AutgoGraph team. When filing the bug, set the verbosity to 10 (on Linux, `export AUTOGRAPH_VERBOSITY=10`) and attach the full output. Cause: converting <bound method Dense.call of <tensorflow.python.layers.core.Dense object at 0x0000024E900CEF28>>: AssertionError: Bad argument number for Name: 3, expecting 4\n",
      "WARNING - Entity <bound method Dense.call of <tensorflow.python.layers.core.Dense object at 0x0000024E90352C88>> could not be transformed and will be executed as-is. Please report this to the AutgoGraph team. When filing the bug, set the verbosity to 10 (on Linux, `export AUTOGRAPH_VERBOSITY=10`) and attach the full output. Cause: converting <bound method Dense.call of <tensorflow.python.layers.core.Dense object at 0x0000024E90352C88>>: AssertionError: Bad argument number for Name: 3, expecting 4\n",
      "WARNING - Entity <bound method Dense.call of <tensorflow.python.layers.core.Dense object at 0x0000024E90352C88>> could not be transformed and will be executed as-is. Please report this to the AutgoGraph team. When filing the bug, set the verbosity to 10 (on Linux, `export AUTOGRAPH_VERBOSITY=10`) and attach the full output. Cause: converting <bound method Dense.call of <tensorflow.python.layers.core.Dense object at 0x0000024E90352C88>>: AssertionError: Bad argument number for Name: 3, expecting 4\n",
      "WARNING: Entity <bound method Dense.call of <tensorflow.python.layers.core.Dense object at 0x0000024E90352C88>> could not be transformed and will be executed as-is. Please report this to the AutgoGraph team. When filing the bug, set the verbosity to 10 (on Linux, `export AUTOGRAPH_VERBOSITY=10`) and attach the full output. Cause: converting <bound method Dense.call of <tensorflow.python.layers.core.Dense object at 0x0000024E90352C88>>: AssertionError: Bad argument number for Name: 3, expecting 4\n",
      "WARNING: Entity <bound method Dense.call of <tensorflow.python.layers.core.Dense object at 0x0000024E90352C88>> could not be transformed and will be executed as-is. Please report this to the AutgoGraph team. When filing the bug, set the verbosity to 10 (on Linux, `export AUTOGRAPH_VERBOSITY=10`) and attach the full output. Cause: converting <bound method Dense.call of <tensorflow.python.layers.core.Dense object at 0x0000024E90352C88>>: AssertionError: Bad argument number for Name: 3, expecting 4\n",
      "WARNING - Entity <bound method Dense.call of <tensorflow.python.layers.core.Dense object at 0x0000024E900CEEB8>> could not be transformed and will be executed as-is. Please report this to the AutgoGraph team. When filing the bug, set the verbosity to 10 (on Linux, `export AUTOGRAPH_VERBOSITY=10`) and attach the full output. Cause: converting <bound method Dense.call of <tensorflow.python.layers.core.Dense object at 0x0000024E900CEEB8>>: AssertionError: Bad argument number for Name: 3, expecting 4\n",
      "WARNING - Entity <bound method Flatten.call of <tensorflow.python.layers.core.Flatten object at 0x0000024E9041A7B8>> could not be transformed and will be executed as-is. Please report this to the AutgoGraph team. When filing the bug, set the verbosity to 10 (on Linux, `export AUTOGRAPH_VERBOSITY=10`) and attach the full output. Cause: converting <bound method Flatten.call of <tensorflow.python.layers.core.Flatten object at 0x0000024E9041A7B8>>: AttributeError: module 'gast' has no attribute 'Num'\n",
      "WARNING - Entity <bound method Dense.call of <tensorflow.python.layers.core.Dense object at 0x0000024E9041A588>> could not be transformed and will be executed as-is. Please report this to the AutgoGraph team. When filing the bug, set the verbosity to 10 (on Linux, `export AUTOGRAPH_VERBOSITY=10`) and attach the full output. Cause: converting <bound method Dense.call of <tensorflow.python.layers.core.Dense object at 0x0000024E9041A588>>: AssertionError: Bad argument number for Name: 3, expecting 4\n",
      "WARNING: Entity <bound method Dense.call of <tensorflow.python.layers.core.Dense object at 0x0000024E900CEEB8>> could not be transformed and will be executed as-is. Please report this to the AutgoGraph team. When filing the bug, set the verbosity to 10 (on Linux, `export AUTOGRAPH_VERBOSITY=10`) and attach the full output. Cause: converting <bound method Dense.call of <tensorflow.python.layers.core.Dense object at 0x0000024E900CEEB8>>: AssertionError: Bad argument number for Name: 3, expecting 4\n",
      "WARNING: Entity <bound method Flatten.call of <tensorflow.python.layers.core.Flatten object at 0x0000024E9041A7B8>> could not be transformed and will be executed as-is. Please report this to the AutgoGraph team. When filing the bug, set the verbosity to 10 (on Linux, `export AUTOGRAPH_VERBOSITY=10`) and attach the full output. Cause: converting <bound method Flatten.call of <tensorflow.python.layers.core.Flatten object at 0x0000024E9041A7B8>>: AttributeError: module 'gast' has no attribute 'Num'\n",
      "WARNING: Entity <bound method Dense.call of <tensorflow.python.layers.core.Dense object at 0x0000024E9041A588>> could not be transformed and will be executed as-is. Please report this to the AutgoGraph team. When filing the bug, set the verbosity to 10 (on Linux, `export AUTOGRAPH_VERBOSITY=10`) and attach the full output. Cause: converting <bound method Dense.call of <tensorflow.python.layers.core.Dense object at 0x0000024E9041A588>>: AssertionError: Bad argument number for Name: 3, expecting 4\n",
      "WARNING - Entity <bound method Dense.call of <tensorflow.python.layers.core.Dense object at 0x0000024E9041A320>> could not be transformed and will be executed as-is. Please report this to the AutgoGraph team. When filing the bug, set the verbosity to 10 (on Linux, `export AUTOGRAPH_VERBOSITY=10`) and attach the full output. Cause: converting <bound method Dense.call of <tensorflow.python.layers.core.Dense object at 0x0000024E9041A320>>: AssertionError: Bad argument number for Name: 3, expecting 4\n",
      "WARNING - Entity <bound method Dense.call of <tensorflow.python.layers.core.Dense object at 0x0000024E9041A7B8>> could not be transformed and will be executed as-is. Please report this to the AutgoGraph team. When filing the bug, set the verbosity to 10 (on Linux, `export AUTOGRAPH_VERBOSITY=10`) and attach the full output. Cause: converting <bound method Dense.call of <tensorflow.python.layers.core.Dense object at 0x0000024E9041A7B8>>: AssertionError: Bad argument number for Name: 3, expecting 4\n",
      "WARNING: Entity <bound method Dense.call of <tensorflow.python.layers.core.Dense object at 0x0000024E9041A320>> could not be transformed and will be executed as-is. Please report this to the AutgoGraph team. When filing the bug, set the verbosity to 10 (on Linux, `export AUTOGRAPH_VERBOSITY=10`) and attach the full output. Cause: converting <bound method Dense.call of <tensorflow.python.layers.core.Dense object at 0x0000024E9041A320>>: AssertionError: Bad argument number for Name: 3, expecting 4\n",
      "WARNING: Entity <bound method Dense.call of <tensorflow.python.layers.core.Dense object at 0x0000024E9041A7B8>> could not be transformed and will be executed as-is. Please report this to the AutgoGraph team. When filing the bug, set the verbosity to 10 (on Linux, `export AUTOGRAPH_VERBOSITY=10`) and attach the full output. Cause: converting <bound method Dense.call of <tensorflow.python.layers.core.Dense object at 0x0000024E9041A7B8>>: AssertionError: Bad argument number for Name: 3, expecting 4\n",
      "WARNING - Entity <bound method Dense.call of <tensorflow.python.layers.core.Dense object at 0x0000024E90468E10>> could not be transformed and will be executed as-is. Please report this to the AutgoGraph team. When filing the bug, set the verbosity to 10 (on Linux, `export AUTOGRAPH_VERBOSITY=10`) and attach the full output. Cause: converting <bound method Dense.call of <tensorflow.python.layers.core.Dense object at 0x0000024E90468E10>>: AssertionError: Bad argument number for Name: 3, expecting 4\n",
      "WARNING - Entity <bound method Dense.call of <tensorflow.python.layers.core.Dense object at 0x0000024E903C4A20>> could not be transformed and will be executed as-is. Please report this to the AutgoGraph team. When filing the bug, set the verbosity to 10 (on Linux, `export AUTOGRAPH_VERBOSITY=10`) and attach the full output. Cause: converting <bound method Dense.call of <tensorflow.python.layers.core.Dense object at 0x0000024E903C4A20>>: AssertionError: Bad argument number for Name: 3, expecting 4\n",
      "WARNING: Entity <bound method Dense.call of <tensorflow.python.layers.core.Dense object at 0x0000024E90468E10>> could not be transformed and will be executed as-is. Please report this to the AutgoGraph team. When filing the bug, set the verbosity to 10 (on Linux, `export AUTOGRAPH_VERBOSITY=10`) and attach the full output. Cause: converting <bound method Dense.call of <tensorflow.python.layers.core.Dense object at 0x0000024E90468E10>>: AssertionError: Bad argument number for Name: 3, expecting 4\n",
      "WARNING: Entity <bound method Dense.call of <tensorflow.python.layers.core.Dense object at 0x0000024E903C4A20>> could not be transformed and will be executed as-is. Please report this to the AutgoGraph team. When filing the bug, set the verbosity to 10 (on Linux, `export AUTOGRAPH_VERBOSITY=10`) and attach the full output. Cause: converting <bound method Dense.call of <tensorflow.python.layers.core.Dense object at 0x0000024E903C4A20>>: AssertionError: Bad argument number for Name: 3, expecting 4\n",
      "WARNING - Entity <bound method Dense.call of <tensorflow.python.layers.core.Dense object at 0x0000024E903C4A20>> could not be transformed and will be executed as-is. Please report this to the AutgoGraph team. When filing the bug, set the verbosity to 10 (on Linux, `export AUTOGRAPH_VERBOSITY=10`) and attach the full output. Cause: converting <bound method Dense.call of <tensorflow.python.layers.core.Dense object at 0x0000024E903C4A20>>: AssertionError: Bad argument number for Name: 3, expecting 4\n",
      "WARNING - Entity <bound method Flatten.call of <tensorflow.python.layers.core.Flatten object at 0x0000024E904A8E48>> could not be transformed and will be executed as-is. Please report this to the AutgoGraph team. When filing the bug, set the verbosity to 10 (on Linux, `export AUTOGRAPH_VERBOSITY=10`) and attach the full output. Cause: converting <bound method Flatten.call of <tensorflow.python.layers.core.Flatten object at 0x0000024E904A8E48>>: AttributeError: module 'gast' has no attribute 'Num'\n",
      "WARNING - Entity <bound method Dense.call of <tensorflow.python.layers.core.Dense object at 0x0000024E904A8668>> could not be transformed and will be executed as-is. Please report this to the AutgoGraph team. When filing the bug, set the verbosity to 10 (on Linux, `export AUTOGRAPH_VERBOSITY=10`) and attach the full output. Cause: converting <bound method Dense.call of <tensorflow.python.layers.core.Dense object at 0x0000024E904A8668>>: AssertionError: Bad argument number for Name: 3, expecting 4\n",
      "WARNING: Entity <bound method Dense.call of <tensorflow.python.layers.core.Dense object at 0x0000024E903C4A20>> could not be transformed and will be executed as-is. Please report this to the AutgoGraph team. When filing the bug, set the verbosity to 10 (on Linux, `export AUTOGRAPH_VERBOSITY=10`) and attach the full output. Cause: converting <bound method Dense.call of <tensorflow.python.layers.core.Dense object at 0x0000024E903C4A20>>: AssertionError: Bad argument number for Name: 3, expecting 4\n",
      "WARNING: Entity <bound method Flatten.call of <tensorflow.python.layers.core.Flatten object at 0x0000024E904A8E48>> could not be transformed and will be executed as-is. Please report this to the AutgoGraph team. When filing the bug, set the verbosity to 10 (on Linux, `export AUTOGRAPH_VERBOSITY=10`) and attach the full output. Cause: converting <bound method Flatten.call of <tensorflow.python.layers.core.Flatten object at 0x0000024E904A8E48>>: AttributeError: module 'gast' has no attribute 'Num'\n",
      "WARNING: Entity <bound method Dense.call of <tensorflow.python.layers.core.Dense object at 0x0000024E904A8668>> could not be transformed and will be executed as-is. Please report this to the AutgoGraph team. When filing the bug, set the verbosity to 10 (on Linux, `export AUTOGRAPH_VERBOSITY=10`) and attach the full output. Cause: converting <bound method Dense.call of <tensorflow.python.layers.core.Dense object at 0x0000024E904A8668>>: AssertionError: Bad argument number for Name: 3, expecting 4\n",
      "WARNING - Entity <bound method Dense.call of <tensorflow.python.layers.core.Dense object at 0x0000024E904A85F8>> could not be transformed and will be executed as-is. Please report this to the AutgoGraph team. When filing the bug, set the verbosity to 10 (on Linux, `export AUTOGRAPH_VERBOSITY=10`) and attach the full output. Cause: converting <bound method Dense.call of <tensorflow.python.layers.core.Dense object at 0x0000024E904A85F8>>: AssertionError: Bad argument number for Name: 3, expecting 4\n",
      "WARNING - Entity <bound method Dense.call of <tensorflow.python.layers.core.Dense object at 0x0000024E904A8240>> could not be transformed and will be executed as-is. Please report this to the AutgoGraph team. When filing the bug, set the verbosity to 10 (on Linux, `export AUTOGRAPH_VERBOSITY=10`) and attach the full output. Cause: converting <bound method Dense.call of <tensorflow.python.layers.core.Dense object at 0x0000024E904A8240>>: AssertionError: Bad argument number for Name: 3, expecting 4\n",
      "WARNING: Entity <bound method Dense.call of <tensorflow.python.layers.core.Dense object at 0x0000024E904A85F8>> could not be transformed and will be executed as-is. Please report this to the AutgoGraph team. When filing the bug, set the verbosity to 10 (on Linux, `export AUTOGRAPH_VERBOSITY=10`) and attach the full output. Cause: converting <bound method Dense.call of <tensorflow.python.layers.core.Dense object at 0x0000024E904A85F8>>: AssertionError: Bad argument number for Name: 3, expecting 4\n",
      "WARNING: Entity <bound method Dense.call of <tensorflow.python.layers.core.Dense object at 0x0000024E904A8240>> could not be transformed and will be executed as-is. Please report this to the AutgoGraph team. When filing the bug, set the verbosity to 10 (on Linux, `export AUTOGRAPH_VERBOSITY=10`) and attach the full output. Cause: converting <bound method Dense.call of <tensorflow.python.layers.core.Dense object at 0x0000024E904A8240>>: AssertionError: Bad argument number for Name: 3, expecting 4\n",
      "WARNING - Entity <bound method Dense.call of <tensorflow.python.layers.core.Dense object at 0x0000024E904A8E48>> could not be transformed and will be executed as-is. Please report this to the AutgoGraph team. When filing the bug, set the verbosity to 10 (on Linux, `export AUTOGRAPH_VERBOSITY=10`) and attach the full output. Cause: converting <bound method Dense.call of <tensorflow.python.layers.core.Dense object at 0x0000024E904A8E48>>: AssertionError: Bad argument number for Name: 3, expecting 4\n",
      "WARNING - Entity <bound method Dense.call of <tensorflow.python.layers.core.Dense object at 0x0000024E904A8F28>> could not be transformed and will be executed as-is. Please report this to the AutgoGraph team. When filing the bug, set the verbosity to 10 (on Linux, `export AUTOGRAPH_VERBOSITY=10`) and attach the full output. Cause: converting <bound method Dense.call of <tensorflow.python.layers.core.Dense object at 0x0000024E904A8F28>>: AssertionError: Bad argument number for Name: 3, expecting 4\n",
      "WARNING: Entity <bound method Dense.call of <tensorflow.python.layers.core.Dense object at 0x0000024E904A8E48>> could not be transformed and will be executed as-is. Please report this to the AutgoGraph team. When filing the bug, set the verbosity to 10 (on Linux, `export AUTOGRAPH_VERBOSITY=10`) and attach the full output. Cause: converting <bound method Dense.call of <tensorflow.python.layers.core.Dense object at 0x0000024E904A8E48>>: AssertionError: Bad argument number for Name: 3, expecting 4\n",
      "WARNING: Entity <bound method Dense.call of <tensorflow.python.layers.core.Dense object at 0x0000024E904A8F28>> could not be transformed and will be executed as-is. Please report this to the AutgoGraph team. When filing the bug, set the verbosity to 10 (on Linux, `export AUTOGRAPH_VERBOSITY=10`) and attach the full output. Cause: converting <bound method Dense.call of <tensorflow.python.layers.core.Dense object at 0x0000024E904A8F28>>: AssertionError: Bad argument number for Name: 3, expecting 4\n",
      "WARNING - Entity <bound method Dense.call of <tensorflow.python.layers.core.Dense object at 0x0000024E904A8588>> could not be transformed and will be executed as-is. Please report this to the AutgoGraph team. When filing the bug, set the verbosity to 10 (on Linux, `export AUTOGRAPH_VERBOSITY=10`) and attach the full output. Cause: converting <bound method Dense.call of <tensorflow.python.layers.core.Dense object at 0x0000024E904A8588>>: AssertionError: Bad argument number for Name: 3, expecting 4\n",
      "WARNING - Entity <bound method Flatten.call of <tensorflow.python.layers.core.Flatten object at 0x0000024E904F8C88>> could not be transformed and will be executed as-is. Please report this to the AutgoGraph team. When filing the bug, set the verbosity to 10 (on Linux, `export AUTOGRAPH_VERBOSITY=10`) and attach the full output. Cause: converting <bound method Flatten.call of <tensorflow.python.layers.core.Flatten object at 0x0000024E904F8C88>>: AttributeError: module 'gast' has no attribute 'Num'\n",
      "WARNING - Entity <bound method Dense.call of <tensorflow.python.layers.core.Dense object at 0x0000024E905960B8>> could not be transformed and will be executed as-is. Please report this to the AutgoGraph team. When filing the bug, set the verbosity to 10 (on Linux, `export AUTOGRAPH_VERBOSITY=10`) and attach the full output. Cause: converting <bound method Dense.call of <tensorflow.python.layers.core.Dense object at 0x0000024E905960B8>>: AssertionError: Bad argument number for Name: 3, expecting 4\n",
      "WARNING: Entity <bound method Dense.call of <tensorflow.python.layers.core.Dense object at 0x0000024E904A8588>> could not be transformed and will be executed as-is. Please report this to the AutgoGraph team. When filing the bug, set the verbosity to 10 (on Linux, `export AUTOGRAPH_VERBOSITY=10`) and attach the full output. Cause: converting <bound method Dense.call of <tensorflow.python.layers.core.Dense object at 0x0000024E904A8588>>: AssertionError: Bad argument number for Name: 3, expecting 4\n",
      "WARNING: Entity <bound method Flatten.call of <tensorflow.python.layers.core.Flatten object at 0x0000024E904F8C88>> could not be transformed and will be executed as-is. Please report this to the AutgoGraph team. When filing the bug, set the verbosity to 10 (on Linux, `export AUTOGRAPH_VERBOSITY=10`) and attach the full output. Cause: converting <bound method Flatten.call of <tensorflow.python.layers.core.Flatten object at 0x0000024E904F8C88>>: AttributeError: module 'gast' has no attribute 'Num'\n",
      "WARNING: Entity <bound method Dense.call of <tensorflow.python.layers.core.Dense object at 0x0000024E905960B8>> could not be transformed and will be executed as-is. Please report this to the AutgoGraph team. When filing the bug, set the verbosity to 10 (on Linux, `export AUTOGRAPH_VERBOSITY=10`) and attach the full output. Cause: converting <bound method Dense.call of <tensorflow.python.layers.core.Dense object at 0x0000024E905960B8>>: AssertionError: Bad argument number for Name: 3, expecting 4\n",
      "WARNING - Entity <bound method Dense.call of <tensorflow.python.layers.core.Dense object at 0x0000024E905960B8>> could not be transformed and will be executed as-is. Please report this to the AutgoGraph team. When filing the bug, set the verbosity to 10 (on Linux, `export AUTOGRAPH_VERBOSITY=10`) and attach the full output. Cause: converting <bound method Dense.call of <tensorflow.python.layers.core.Dense object at 0x0000024E905960B8>>: AssertionError: Bad argument number for Name: 3, expecting 4\n",
      "WARNING - Entity <bound method Dense.call of <tensorflow.python.layers.core.Dense object at 0x0000024E904CCE10>> could not be transformed and will be executed as-is. Please report this to the AutgoGraph team. When filing the bug, set the verbosity to 10 (on Linux, `export AUTOGRAPH_VERBOSITY=10`) and attach the full output. Cause: converting <bound method Dense.call of <tensorflow.python.layers.core.Dense object at 0x0000024E904CCE10>>: AssertionError: Bad argument number for Name: 3, expecting 4\n",
      "WARNING: Entity <bound method Dense.call of <tensorflow.python.layers.core.Dense object at 0x0000024E905960B8>> could not be transformed and will be executed as-is. Please report this to the AutgoGraph team. When filing the bug, set the verbosity to 10 (on Linux, `export AUTOGRAPH_VERBOSITY=10`) and attach the full output. Cause: converting <bound method Dense.call of <tensorflow.python.layers.core.Dense object at 0x0000024E905960B8>>: AssertionError: Bad argument number for Name: 3, expecting 4\n",
      "WARNING: Entity <bound method Dense.call of <tensorflow.python.layers.core.Dense object at 0x0000024E904CCE10>> could not be transformed and will be executed as-is. Please report this to the AutgoGraph team. When filing the bug, set the verbosity to 10 (on Linux, `export AUTOGRAPH_VERBOSITY=10`) and attach the full output. Cause: converting <bound method Dense.call of <tensorflow.python.layers.core.Dense object at 0x0000024E904CCE10>>: AssertionError: Bad argument number for Name: 3, expecting 4\n",
      "WARNING - Entity <bound method Dense.call of <tensorflow.python.layers.core.Dense object at 0x0000024E905960B8>> could not be transformed and will be executed as-is. Please report this to the AutgoGraph team. When filing the bug, set the verbosity to 10 (on Linux, `export AUTOGRAPH_VERBOSITY=10`) and attach the full output. Cause: converting <bound method Dense.call of <tensorflow.python.layers.core.Dense object at 0x0000024E905960B8>>: AssertionError: Bad argument number for Name: 3, expecting 4\n",
      "WARNING - Entity <bound method Dense.call of <tensorflow.python.layers.core.Dense object at 0x0000024E905960B8>> could not be transformed and will be executed as-is. Please report this to the AutgoGraph team. When filing the bug, set the verbosity to 10 (on Linux, `export AUTOGRAPH_VERBOSITY=10`) and attach the full output. Cause: converting <bound method Dense.call of <tensorflow.python.layers.core.Dense object at 0x0000024E905960B8>>: AssertionError: Bad argument number for Name: 3, expecting 4\n",
      "WARNING - Entity <bound method Dense.call of <tensorflow.python.layers.core.Dense object at 0x0000024E904F8780>> could not be transformed and will be executed as-is. Please report this to the AutgoGraph team. When filing the bug, set the verbosity to 10 (on Linux, `export AUTOGRAPH_VERBOSITY=10`) and attach the full output. Cause: converting <bound method Dense.call of <tensorflow.python.layers.core.Dense object at 0x0000024E904F8780>>: AssertionError: Bad argument number for Name: 3, expecting 4\n",
      "WARNING: Entity <bound method Dense.call of <tensorflow.python.layers.core.Dense object at 0x0000024E905960B8>> could not be transformed and will be executed as-is. Please report this to the AutgoGraph team. When filing the bug, set the verbosity to 10 (on Linux, `export AUTOGRAPH_VERBOSITY=10`) and attach the full output. Cause: converting <bound method Dense.call of <tensorflow.python.layers.core.Dense object at 0x0000024E905960B8>>: AssertionError: Bad argument number for Name: 3, expecting 4\n",
      "WARNING: Entity <bound method Dense.call of <tensorflow.python.layers.core.Dense object at 0x0000024E905960B8>> could not be transformed and will be executed as-is. Please report this to the AutgoGraph team. When filing the bug, set the verbosity to 10 (on Linux, `export AUTOGRAPH_VERBOSITY=10`) and attach the full output. Cause: converting <bound method Dense.call of <tensorflow.python.layers.core.Dense object at 0x0000024E905960B8>>: AssertionError: Bad argument number for Name: 3, expecting 4\n",
      "WARNING: Entity <bound method Dense.call of <tensorflow.python.layers.core.Dense object at 0x0000024E904F8780>> could not be transformed and will be executed as-is. Please report this to the AutgoGraph team. When filing the bug, set the verbosity to 10 (on Linux, `export AUTOGRAPH_VERBOSITY=10`) and attach the full output. Cause: converting <bound method Dense.call of <tensorflow.python.layers.core.Dense object at 0x0000024E904F8780>>: AssertionError: Bad argument number for Name: 3, expecting 4\n"
     ]
    },
    {
     "output_type": "execute_result",
     "data": {
      "text/plain": [
       "<stable_baselines.deepq.dqn.DQN at 0x24e902cdfd0>"
      ]
     },
     "metadata": {},
     "execution_count": 35
    }
   ],
   "source": [
    "env = OneQEnv()\n",
    "env_vec = DummyVecEnv([lambda: env])\n",
    "\n",
    "model = DQN(MlpPolicy, env_vec, verbose=0)\n",
    "model.learn(total_timesteps=20000)\n",
    "\n",
    "# obs = env_vec.reset()\n",
    "# for i in range(1000):\n",
    "#     action, _states = model.predict(obs)\n",
    "#     obs, rewards, dones, info = env_vec.step(action)"
   ]
  },
  {
   "cell_type": "code",
   "execution_count": 36,
   "metadata": {},
   "outputs": [],
   "source": [
    "wfn_sim = WavefunctionSimulator()"
   ]
  },
  {
   "cell_type": "code",
   "execution_count": 37,
   "metadata": {},
   "outputs": [
    {
     "output_type": "stream",
     "name": "stdout",
     "text": [
      "(0.7071067812+0j)|0> + (0.7071067812+0j)|1>\n"
     ]
    }
   ],
   "source": [
    "optimal_action, next_state = model.predict(np.array([1, 0, 0, 0]))\n",
    "prog = Program(gates[optimal_action])\n",
    "wfn = wfn_sim.wavefunction(prog)\n",
    "print(wfn)"
   ]
  },
  {
   "cell_type": "code",
   "execution_count": 38,
   "metadata": {},
   "outputs": [
    {
     "output_type": "stream",
     "name": "stdout",
     "text": [
      "RY(pi/2) 0\n[0.70710678 0.70710678 0.         0.        ] 0.0 False\nRZ(pi/2) 0\n[ 0.5  0.5 -0.5  0.5] 1.0 True\nWavefunction: (0.5-0.5j)|0> + (0.5+0.5j)|1>\n"
     ]
    }
   ],
   "source": [
    "\n",
    "done = False\n",
    "env.reset()\n",
    "prog = Program()\n",
    "obs = np.array([1, 0, 0, 0])\n",
    "\n",
    "while not done:\n",
    "    optimal_action, _ = model.predict(obs)\n",
    "    print(gates[optimal_action])\n",
    "    prog += gates[optimal_action]\n",
    "    obs, rewards, done, info = env.step(optimal_action)\n",
    "    print(obs, rewards, done)\n",
    "    \n",
    "wfn = wfn_sim.wavefunction(prog)\n",
    "print(f\"Wavefunction: {wfn}\")"
   ]
  },
  {
   "cell_type": "code",
   "execution_count": 8,
   "metadata": {},
   "outputs": [
    {
     "output_type": "stream",
     "name": "stdout",
     "text": [
      "[0.70710678+0.j 0.        +0.j 0.        +0.j 0.70710678+0.j]\n"
     ]
    }
   ],
   "source": [
    "wfn_sim = WavefunctionSimulator()\n",
    "p = Program()\n",
    "p.inst(H(0))\n",
    "p.inst(CNOT(0,1))\n",
    "\n",
    "wfn = wfn_sim.wavefunction(p)\n",
    "print(wfn.amplitudes)"
   ]
  },
  {
   "cell_type": "code",
   "execution_count": 9,
   "metadata": {},
   "outputs": [
    {
     "output_type": "stream",
     "name": "stdout",
     "text": [
      "H 0\nCNOT 0 1\n\n"
     ]
    }
   ],
   "source": [
    "print(p)"
   ]
  },
  {
   "cell_type": "code",
   "execution_count": null,
   "metadata": {},
   "outputs": [],
   "source": []
  }
 ],
 "metadata": {
  "kernelspec": {
   "display_name": "Python 3",
   "language": "python",
   "name": "python3"
  },
  "language_info": {
   "codemirror_mode": {
    "name": "ipython",
    "version": 3
   },
   "file_extension": ".py",
   "mimetype": "text/x-python",
   "name": "python",
   "nbconvert_exporter": "python",
   "pygments_lexer": "ipython3",
   "version": "3.6.7-final"
  }
 },
 "nbformat": 4,
 "nbformat_minor": 2
}