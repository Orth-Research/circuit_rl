{
 "cells": [
  {
   "cell_type": "code",
   "execution_count": 1,
   "metadata": {},
   "outputs": [],
   "source": [
    "import numpy as np\n",
    "import pandas as pd\n",
    "import scipy.linalg\n",
    "from numpy.linalg import matrix_power"
   ]
  },
  {
   "cell_type": "code",
   "execution_count": 2,
   "metadata": {},
   "outputs": [],
   "source": [
    "def dm_to_bloch_reg(rho):\n",
    "    # rho is a density matrix\n",
    "    state = dm_to_bloch_vector(rho)\n",
    "    state = cartesian_to_spherical(state)\n",
    "\n",
    "    # state is now (theta, phi, r)\n",
    "    for i, intv in enumerate(thetas):\n",
    "        if (state[0] in intv):\n",
    "            theta_reg = i\n",
    "    for i, intv in enumerate(phis):\n",
    "        if (state[1] in intv):\n",
    "            phi_reg = i\n",
    "    for i, intv in enumerate(radii):\n",
    "        if (state[2] in intv):\n",
    "            r_reg = i\n",
    "\n",
    "    if (theta_reg == 0):\n",
    "        theta_reg = phi_reg = 0\n",
    "    if (theta_reg == len(thetas)-1):\n",
    "        theta_reg = len(thetas)-1\n",
    "        phi_reg = len(phis)-1\n",
    "\n",
    "    return (theta_reg, phi_reg, r_reg)\n",
    "\n",
    "def dm_to_bloch_vector(rho):\n",
    "    x = np.array([[0,1],[1,0]])\n",
    "    y = np.array([[0,-1j],[1j,0]])\n",
    "    z = np.array([[1,0],[0,-1]])\n",
    "\n",
    "    # where rho is a density matrix\n",
    "    return (np.trace(rho @ x).real, np.trace(rho @ y).real, np.trace(rho @ z).real)\n",
    "\n",
    "def dm_to_polar_coords(rho):\n",
    "    # rho is a density matrix\n",
    "    return cartesian_to_spherical(dm_to_bloch_vector(rho))\n",
    "\n",
    "def cartesian_to_spherical(state):\n",
    "    x = state[0]\n",
    "    y = state[1]\n",
    "    z = state[2]\n",
    "\n",
    "    r = min(np.sqrt(x**2 + y**2 + z**2), 1)\n",
    "    theta = max(0, np.arccos(z/r))\n",
    "    phi = np.arctan2(y.real, x.real)\n",
    "    if (phi < 0): phi += 2*np.pi\n",
    "\n",
    "    return (theta, phi, r)\n",
    "\n",
    "def spherical_to_cartesian(state):\n",
    "    theta = state[0]\n",
    "    phi = state[1]\n",
    "    r = state[2]\n",
    "\n",
    "    x = np.sin(theta) * np.cos(phi)\n",
    "    y = np.sin(theta) * np.sin(phi)\n",
    "    z = np.cos(theta)\n",
    "\n",
    "    if abs(x) < 0.0001:\n",
    "        x = 0\n",
    "    if abs(y) < 0.0001:\n",
    "        y = 0\n",
    "    if abs(z) < 0.0001:\n",
    "        z = 0\n",
    "    return (x, y, z)\n",
    "\n",
    "def random_state_in_reg(reg):\n",
    "    # where reg is a tuple specifying (theta, phi, radius)\n",
    "    # returns a density matrix\n",
    "    theta = np.random.uniform(thetas[reg[0]].left, thetas[reg[0]].right)\n",
    "\n",
    "    # maybe consider the poles as one state\n",
    "    if (reg[0] == 0 or reg == len(thetas)-1):\n",
    "        phi = np.random.uniform(0, 2*np.pi)\n",
    "    else:\n",
    "        phi = np.random.uniform(phis[reg[1]].left, phis[reg[1]].right)\n",
    "    # r = np.random.uniform(radii[reg[2]].left, radii[reg[2]].right)\n",
    "    r = 1\n",
    "\n",
    "    state = spherical_to_cartesian((theta, phi, r))\n",
    "    rho = (np.eye(2) + state[0]*np.array([[0,1],[1,0]]) + state[1]*np.array([[0, -1j], [1j, 0]]) + state[2]*np.array([[1,0], [0,-1]]))/2\n",
    "    return np.matrix(rho)\n",
    "\n",
    "def generate_target_state(n):\n",
    "    s = np.matrix([1, 0])\n",
    "    rho = np.outer(s, s.H)\n",
    "    \n",
    "    ht = GATES[0] @ GATES[1]\n",
    "    rho = matrix_power(ht, n) @ rho @ matrix_power(ht.H, n)\n",
    "        \n",
    "    return rho\n",
    "\n",
    "def apply_operator(rho, op): # add noise\n",
    "    return np.matrix(op @ rho @ op.H)\n",
    "\n",
    "def dm_fidelity(rho, sigma):\n",
    "    rho_sqrt = scipy.linalg.sqrtm(rho)\n",
    "    return np.trace(scipy.linalg.sqrtm(rho_sqrt @ sigma @ rho_sqrt))**2"
   ]
  },
  {
   "cell_type": "code",
   "execution_count": 49,
   "metadata": {},
   "outputs": [],
   "source": [
    "n = 10**6\n",
    "k = 16\n",
    "\n",
    "GATES = [\n",
    "    np.matrix([[1, 1], [1, -1]]) / np.sqrt(2), # H\n",
    "    np.matrix([[1, 0], [0, np.exp(1j * np.pi / 4)]]), # T\n",
    "    np.matrix([[1, 0], [0, 1]]) # I\n",
    "]\n",
    "\n",
    "goal = generate_target_state(n=n)\n",
    "thetas = np.array(pd.cut(np.linspace(0, np.pi, k), k, precision=10, include_lowest=True))\n",
    "thetas[0] = pd.Interval(0, thetas[0].right, closed='both')\n",
    "phis = np.array(pd.cut(np.linspace(0, 2*np.pi, 2*k), 2*k,  precision=10, include_lowest=True))\n",
    "phis[0] = pd.Interval(0, phis[0].right, closed='both')\n",
    "# rs = (1 - np.geomspace(1e-3, 1, k))[::-1]\n",
    "# rs[0] = 0\n",
    "# rs[-1] = 1\n",
    "# radii = pd.cut(np.linspace(0, 1, 1), 1, precision=10, include_lowest=True)\n",
    "radii = [pd.Interval(0, 1, closed='both')]\n",
    "goal_reg = dm_to_bloch_reg(goal)\n",
    "\n",
    "states = [(i, j, k) for i in range(len(thetas)) for j in range(len(phis)) for k in range(len(radii))]\n",
    "values = np.zeros(len(thetas) * len(phis) * len(radii))"
   ]
  },
  {
   "cell_type": "code",
   "execution_count": 4,
   "metadata": {},
   "outputs": [
    {
     "name": "stdout",
     "output_type": "stream",
     "text": [
      "(0.9999999967824147+0j)\n",
      "(6, 25, 0)\n",
      "(1.2735465608178806, 5.071889081050288, 0.9999999983912073)\n",
      "[[0.64644585-5.55111512e-17j 0.16818904+4.47510959e-01j]\n",
      " [0.16818904-4.47510959e-01j 0.35355415+0.00000000e+00j]]\n",
      "0:  (0.6464458456762312-5.551115123125783e-17j)\n",
      "1:  (0.35355415271497614+0j)\n"
     ]
    }
   ],
   "source": [
    "print(np.trace(goal@goal.H))\n",
    "print(goal_reg)\n",
    "# print(dm_to_bloch_vector(goal))\n",
    "print(dm_to_polar_coords(goal))\n",
    "print(goal)\n",
    "print('0: ', np.trace(np.outer(np.matrix([1,0]), np.matrix([1,0]).H) @ goal))\n",
    "print('1: ', np.trace(np.outer(np.matrix([0,1]), np.matrix([0,1]).H) @ goal))"
   ]
  },
  {
   "cell_type": "code",
   "execution_count": 5,
   "metadata": {},
   "outputs": [
    {
     "name": "stderr",
     "output_type": "stream",
     "text": [
      "C:\\Users\\nfber\\anaconda3\\envs\\qc\\lib\\site-packages\\ipykernel_launcher.py:15: RuntimeWarning: invalid value encountered in true_divide\n",
      "  from ipykernel import kernelapp as app\n"
     ]
    }
   ],
   "source": [
    "transitions = [np.zeros((len(states), len(states)), dtype=np.half) for i in range(len(GATES))]\n",
    "\n",
    "# building transition matrices\n",
    "for s in states:\n",
    "    for i in range(100):\n",
    "        state = random_state_in_reg(s)\n",
    "        for j in range(len(GATES)):\n",
    "            state_ind = states.index(dm_to_bloch_reg(state))\n",
    "            n_state = apply_operator(state, GATES[j])\n",
    "            n_state_ind = states.index(dm_to_bloch_reg(n_state))\n",
    "            transitions[j][state_ind][n_state_ind] += 1\n",
    "\n",
    "for i in range(len(GATES)):\n",
    "    for j in range(len(states)):\n",
    "        transitions[i][j] = np.nan_to_num(transitions[i][j] / sum(transitions[i][j]))"
   ]
  },
  {
   "cell_type": "code",
   "execution_count": 6,
   "metadata": {},
   "outputs": [],
   "source": [
    "def R(state, action):\n",
    "    # pass\n",
    "    if (state == goal_reg):\n",
    "        return 1\n",
    "        # if (action == 0 or action == 1):\n",
    "        #     return 0.9\n",
    "        # else:\n",
    "        #     return 1 # to encourage using identity\n",
    "    else:\n",
    "        return 0"
   ]
  },
  {
   "cell_type": "code",
   "execution_count": 59,
   "metadata": {},
   "outputs": [],
   "source": [
    "def policy_eval(policy, discount_factor=0.8, epsilon=0.0001):\n",
    "    V_old = np.zeros(len(states))\n",
    "    while True:\n",
    "    # for i in range(1):\n",
    "        V_new = np.zeros(len(states))\n",
    "        delta = 0\n",
    "        for s, _ in enumerate(states):\n",
    "            v_fn = 0\n",
    "            action_probs = policy[s]\n",
    "            for a, _ in enumerate(GATES):\n",
    "                p_trans = transitions[a][s]\n",
    "                p_next_states = np.nonzero(transitions[a][s])[0]\n",
    "                for next_s in p_next_states:\n",
    "                    v_fn += action_probs[a] * p_trans[next_s] * (R(states[s], a) + discount_factor * V_old[next_s])\n",
    "            delta = max(delta, abs(v_fn - V_old[s]))\n",
    "            V_new[s] = v_fn\n",
    "        V_old = V_new\n",
    "        if(delta < epsilon):\n",
    "            print('converged')\n",
    "            break\n",
    "    # since technically the entire north/south pole is one state, copy (0, 0) and (k-1, k-1) over\n",
    "    # won't ever be used, but it is needed for the visualization\n",
    "    for i in range(1, len(phis)):\n",
    "        V_old[i] = V_old[0]\n",
    "        V_old[len(thetas)*len(phis)-1-i] = V_old[len(thetas)*len(phis)-1]\n",
    "    return np.array(V_old)"
   ]
  },
  {
   "cell_type": "code",
   "execution_count": 60,
   "metadata": {},
   "outputs": [],
   "source": [
    "def policy_improvement(policy_eval_fn=policy_eval, discount_factor=0.8):      \n",
    "    def one_step_lookahead(s, V_old):\n",
    "        actions = np.zeros(len(GATES))\n",
    "        for a in range(len(GATES)):\n",
    "            v_fn = 0\n",
    "            p_trans = transitions[a][s]\n",
    "            p_next_states = np.nonzero(transitions[a][s])[0]\n",
    "            for next_s in p_next_states:\n",
    "                v_fn += p_trans[next_s] * (R(states[s], a) + discount_factor * V_old[next_s])\n",
    "            actions[a] = v_fn\n",
    "        return actions\n",
    "    policy = np.ones([len(states), len(GATES)]) / len(GATES)\n",
    "    actions_values = np.zeros(len(GATES))\n",
    "    \n",
    "    while True:\n",
    "        value_fn = policy_eval_fn(policy)\n",
    "        policy_stable = True\n",
    "        for s in range(len(states)):\n",
    "            actions_values = one_step_lookahead(s, value_fn)\n",
    "            best_action = np.argmax(actions_values)\n",
    "            chosen_action = np.argmax(policy[s])\n",
    "            if(best_action != chosen_action):\n",
    "                policy_stable = False\n",
    "            policy[s] = np.eye(len(GATES))[best_action]\n",
    "        \n",
    "        if(policy_stable):\n",
    "            return policy, value_fn"
   ]
  },
  {
   "cell_type": "code",
   "execution_count": 121,
   "metadata": {},
   "outputs": [
    {
     "name": "stdout",
     "output_type": "stream",
     "text": [
      "converged\n",
      "converged\n",
      "converged\n",
      "converged\n",
      "converged\n",
      "converged\n",
      "converged\n"
     ]
    }
   ],
   "source": [
    "n = 10**7\n",
    "goal = generate_target_state(n=n)\n",
    "goal_reg = dm_to_bloch_reg(goal)\n",
    "\n",
    "policy, v = policy_improvement(policy_eval)"
   ]
  },
  {
   "cell_type": "code",
   "execution_count": 122,
   "metadata": {},
   "outputs": [
    {
     "name": "stdout",
     "output_type": "stream",
     "text": [
      "converged\n",
      "converged\n",
      "converged\n",
      "converged\n",
      "converged\n",
      "converged\n",
      "converged\n",
      "converged\n",
      "converged\n",
      "converged\n",
      "converged\n",
      "converged\n",
      "converged\n",
      "converged\n",
      "converged\n",
      "converged\n"
     ]
    }
   ],
   "source": [
    "optimal_programs = []\n",
    "for i in range(k):\n",
    "    converged = False\n",
    "    while not converged:\n",
    "        s = random_state_in_reg((0, 0, 0))\n",
    "        prog = []\n",
    "        counter = 0\n",
    "        while counter < 20:\n",
    "            action = np.argmax(policy[states.index(dm_to_bloch_reg(s))])\n",
    "            next_s = apply_operator(s, GATES[action])\n",
    "            prog.append(action)\n",
    "            # next_s = random_state_in_reg(dm_to_bloch_reg(next_s))\n",
    "            s = next_s\n",
    "            counter += 1\n",
    "            if (dm_to_bloch_reg(s) == goal_reg):\n",
    "                print('converged')\n",
    "                converged = True\n",
    "                break\n",
    "        \n",
    "    optimal_programs.append(prog)\n",
    "# optimal_programs.append([0,1,1,1,0,1,0,1,0,1,0,1,1,1,1,1,0])"
   ]
  },
  {
   "cell_type": "code",
   "execution_count": 123,
   "metadata": {},
   "outputs": [
    {
     "name": "stdout",
     "output_type": "stream",
     "text": [
      "[0, 1, 1, 1, 0, 1, 0, 1, 1, 1, 0, 1, 1, 1, 1, 1] (0.9918095365449533+4.812987579959445e-09j)\n",
      "[0, 1, 0, 1, 0, 1, 0, 1, 1, 1, 0] (0.989557952074778-1.6306392921923855e-08j)\n",
      "[0, 1, 1, 1, 0, 1, 0, 1, 1, 1, 0, 1, 1, 1, 1, 1] (0.9918095365449533+4.812987579959445e-09j)\n",
      "[0, 1, 1, 1, 0, 1, 0, 1, 0, 1, 0, 1, 1, 1, 1, 1, 0] (0.9978431863530081-4.1121014318052334e-09j)\n",
      "[0, 1, 0, 1, 0, 1, 0, 1, 1, 1, 0] (0.989557952074778-1.6306392921923855e-08j)\n",
      "[0, 1, 0, 1, 0, 1, 0] (0.9875155173981662+1.899356495456339e-09j)\n",
      "[0, 1, 1, 1, 0, 1, 0, 1, 0, 1, 0, 1, 1, 1, 1, 1, 0] (0.9978431863530081-4.1121014318052334e-09j)\n",
      "[0, 1, 1, 1, 0, 1, 0, 1, 0, 1, 0, 1, 1, 1, 1, 1, 0] (0.9978431863530081-4.1121014318052334e-09j)\n",
      "[0, 1, 0, 1, 0, 1, 1, 1, 0, 1, 0, 1, 1, 0, 1, 1, 1, 1, 1] (0.9985026485410953+1.256784218861478e-08j)\n",
      "[0, 1, 0, 1, 0, 1, 1, 1, 0, 1, 0, 1, 1, 0, 1, 1, 1, 1, 1] (0.9985026485410953+1.256784218861478e-08j)\n",
      "[0, 1, 0, 1, 0, 1, 0] (0.9875155173981662+1.899356495456339e-09j)\n",
      "[0, 1, 0, 1, 0, 1, 0, 1, 1, 1, 0] (0.989557952074778-1.6306392921923855e-08j)\n",
      "[0, 1, 1, 1, 0, 1, 0, 1, 1, 1, 0, 1, 1, 1, 1, 1] (0.9918095365449533+4.812987579959445e-09j)\n",
      "[0, 1, 0, 1, 0, 1, 1, 1, 0, 1, 0, 1, 1, 0, 1, 1, 1, 1, 1] (0.9985026485410953+1.256784218861478e-08j)\n",
      "[0, 1, 1, 1, 0, 1, 0, 1, 0, 1, 0, 1, 1, 1, 1, 1, 0] (0.9978431863530081-4.1121014318052334e-09j)\n",
      "[0, 1, 1, 1, 0, 1, 0, 1, 0, 1, 0, 1, 1, 1, 1, 1, 0] (0.9978431863530081-4.1121014318052334e-09j)\n"
     ]
    }
   ],
   "source": [
    "for prog in optimal_programs:\n",
    "    psi = np.matrix([1,0])\n",
    "    rho = np.matrix(np.outer(psi, psi.H))\n",
    "\n",
    "    for g in prog:\n",
    "        rho = apply_operator(rho, GATES[g])\n",
    "    print(prog, dm_fidelity(goal, rho))"
   ]
  },
  {
   "cell_type": "code",
   "execution_count": 124,
   "metadata": {},
   "outputs": [
    {
     "name": "stdout",
     "output_type": "stream",
     "text": [
      "[\n",
      "[0, 1, 1, 1, 0, 1, 0, 1, 1, 1, 0, 1, 1, 1, 1, 1] ,\n",
      "[0, 1, 0, 1, 0, 1, 0, 1, 1, 1, 0] ,\n",
      "[0, 1, 1, 1, 0, 1, 0, 1, 1, 1, 0, 1, 1, 1, 1, 1] ,\n",
      "[0, 1, 1, 1, 0, 1, 0, 1, 0, 1, 0, 1, 1, 1, 1, 1, 0] ,\n",
      "[0, 1, 0, 1, 0, 1, 0, 1, 1, 1, 0] ,\n",
      "[0, 1, 0, 1, 0, 1, 0] ,\n",
      "[0, 1, 1, 1, 0, 1, 0, 1, 0, 1, 0, 1, 1, 1, 1, 1, 0] ,\n",
      "[0, 1, 1, 1, 0, 1, 0, 1, 0, 1, 0, 1, 1, 1, 1, 1, 0] ,\n",
      "[0, 1, 0, 1, 0, 1, 1, 1, 0, 1, 0, 1, 1, 0, 1, 1, 1, 1, 1] ,\n",
      "[0, 1, 0, 1, 0, 1, 1, 1, 0, 1, 0, 1, 1, 0, 1, 1, 1, 1, 1] ,\n",
      "[0, 1, 0, 1, 0, 1, 0] ,\n",
      "[0, 1, 0, 1, 0, 1, 0, 1, 1, 1, 0] ,\n",
      "[0, 1, 1, 1, 0, 1, 0, 1, 1, 1, 0, 1, 1, 1, 1, 1] ,\n",
      "[0, 1, 0, 1, 0, 1, 1, 1, 0, 1, 0, 1, 1, 0, 1, 1, 1, 1, 1] ,\n",
      "[0, 1, 1, 1, 0, 1, 0, 1, 0, 1, 0, 1, 1, 1, 1, 1, 0] ,\n",
      "[0, 1, 1, 1, 0, 1, 0, 1, 0, 1, 0, 1, 1, 1, 1, 1, 0] ,\n",
      "]\n"
     ]
    }
   ],
   "source": [
    "print('[')\n",
    "for prog in optimal_programs:\n",
    "    print(prog, ',')\n",
    "print(']')"
   ]
  },
  {
   "cell_type": "code",
   "execution_count": null,
   "metadata": {},
   "outputs": [],
   "source": []
  }
 ],
 "metadata": {
  "interpreter": {
   "hash": "36076d0e02b8d1858d0bd5b32bffaa710811761ccb670f476492e9c2dea26ac0"
  },
  "kernelspec": {
   "display_name": "Python 3.7.10 64-bit ('qc': conda)",
   "language": "python",
   "name": "python3"
  },
  "language_info": {
   "codemirror_mode": {
    "name": "ipython",
    "version": 3
   },
   "file_extension": ".py",
   "mimetype": "text/x-python",
   "name": "python",
   "nbconvert_exporter": "python",
   "pygments_lexer": "ipython3",
   "version": "3.7.10"
  },
  "orig_nbformat": 4
 },
 "nbformat": 4,
 "nbformat_minor": 2
}
