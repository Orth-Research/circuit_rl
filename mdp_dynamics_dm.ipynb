{
 "cells": [
  {
   "cell_type": "code",
   "execution_count": 7,
   "metadata": {},
   "outputs": [],
   "source": [
    "import numpy as np\n",
    "import pandas as pd\n",
    "import scipy.linalg"
   ]
  },
  {
   "cell_type": "code",
   "execution_count": 58,
   "metadata": {},
   "outputs": [],
   "source": [
    "def dm_to_bloch_reg(rho):\n",
    "    # rho is a density matrix\n",
    "    state = dm_to_bloch_vector(rho)\n",
    "    state = cartesian_to_spherical(state)\n",
    "\n",
    "    # state is now (theta, phi, r)\n",
    "    for i, intv in enumerate(thetas):\n",
    "        if (state[0] in intv):\n",
    "            theta_reg = i\n",
    "    for i, intv in enumerate(phis):\n",
    "        if (state[1] in intv):\n",
    "            phi_reg = i\n",
    "    for i, intv in enumerate(radii):\n",
    "        if (state[2] in intv):\n",
    "            r_reg = i\n",
    "    return (theta_reg, phi_reg, r_reg)\n",
    "\n",
    "def dm_to_bloch_vector(rho):\n",
    "    x = np.array([[0,1],[1,0]])\n",
    "    y = np.array([[0,-1j],[1j,0]])\n",
    "    z = np.array([[1,0],[0,-1]])\n",
    "\n",
    "    # where rho is a density matrix\n",
    "    return (np.trace(x @ rho), np.trace(y @ rho), np.trace(z @ rho))\n",
    "\n",
    "def dm_to_polar_coords(rho):\n",
    "    # rho is a density matrix\n",
    "    return cartesian_to_spherical(dm_to_bloch_vector(rho))\n",
    "\n",
    "def cartesian_to_spherical(state):\n",
    "    x = state[0]\n",
    "    y = state[1]\n",
    "    z = state[2]\n",
    "\n",
    "    r = min(np.sqrt(x**2 + y**2 + z**2), 1)\n",
    "    theta = max(0, np.arctan(y/x))\n",
    "    phi = max(0, np.arccos(z/r))\n",
    "\n",
    "    return (theta, phi, r)\n",
    "\n",
    "def spherical_to_cartesian(state):\n",
    "    theta = state[0]\n",
    "    phi = state[1]\n",
    "    r = state[2]\n",
    "\n",
    "    x = r*np.cos(theta)*np.sin(phi)\n",
    "    y = r*np.sin(theta)*np.sin(phi)\n",
    "    z = r*np.cos(phi)\n",
    "\n",
    "    return (x, y, z)\n",
    "\n",
    "def random_state_in_reg(reg):\n",
    "    # where reg is a tuple specifying (theta, phi, radius)\n",
    "    # returns a density matrix\n",
    "    theta = np.random.uniform(thetas[reg[0]].left, thetas[reg[0]].right)\n",
    "\n",
    "    # maybe consider the poles as one state\n",
    "    # if (reg == (0, 0) or reg == (len(thetas)-1, len(phis)-1)):\n",
    "        # phi = np.random.uniform(-np.pi, np.pi)\n",
    "    # else:\n",
    "    phi = np.random.uniform(phis[reg[1]].left, phis[reg[1]].right)\n",
    "    r = np.random.uniform(radii[reg[2]].left, radii[reg[2]].right)\n",
    "    \n",
    "    state = spherical_to_cartesian((theta, phi, r))\n",
    "    rho = (np.eye(2) + state[0]*np.array([[0,1],[1,0]]) + state[1]*np.array([[0, -1j], [1j, 0]]) + state[2]*np.array([[1,0], [0,-1]]))/2\n",
    "    return np.matrix(rho)\n",
    "\n",
    "def generate_target_state(n):\n",
    "    s = np.matrix([1, 0])\n",
    "    rho = np.outer(s, s.H)\n",
    "    \n",
    "    for i in range(n):\n",
    "        ht = GATES[0] @ GATES[1]\n",
    "        rho = apply_operator(rho, ht)\n",
    "    return rho\n",
    "\n",
    "def apply_operator(rho, op): # add noise\n",
    "    return op @ rho @ op.H\n",
    "\n",
    "def dm_fidelity(rho, sigma):\n",
    "    rho_sqrt = scipy.linalg.sqrtm(rho)\n",
    "    return np.trace(scipy.linalg.sqrtm(rho_sqrt @ sigma @ rho_sqrt))**2"
   ]
  },
  {
   "cell_type": "code",
   "execution_count": 59,
   "metadata": {},
   "outputs": [],
   "source": [
    "n = 10**5\n",
    "k = 16\n",
    "\n",
    "GATES = [\n",
    "    np.matrix([[1, 1], [1, -1]]) * 1/np.sqrt(2), # H\n",
    "    np.matrix([[1, 0], [0, np.exp(1j * np.pi / 4)]]), # T\n",
    "    np.matrix([[1, 0], [0, 1]]) # I\n",
    "]\n",
    "\n",
    "goal = generate_target_state(n=n)\n",
    "thetas = pd.cut(np.linspace(0, np.pi, k), k, precision=10, include_lowest=True)\n",
    "phis = pd.cut(np.linspace(0, 2*np.pi, k), k,  precision=10, include_lowest=True)\n",
    "# rs = (1 - np.geomspace(1e-3, 1, k))[::-1]\n",
    "# rs[0] = 0\n",
    "# rs[-1] = 1\n",
    "radii = pd.cut(np.linspace(0, 1, k), k, precision=10, include_lowest=True)\n",
    "goal_reg = dm_to_bloch_reg(goal)\n",
    "\n",
    "states = [(i, j, k) for i in range(len(thetas)) for j in range(len(phis)) for k in range(len(radii))]\n",
    "values = np.zeros(len(thetas) * len(phis) * len(radii))"
   ]
  },
  {
   "cell_type": "code",
   "execution_count": 60,
   "metadata": {},
   "outputs": [
    {
     "name": "stdout",
     "output_type": "stream",
     "text": [
      "(0.9999999999740942+0j)\n",
      "(7, 1, 15)\n",
      "((-0.046210220683166825-8.049116928532385e-15j), (-0.6028898141256764-6.716849298982197e-15j), (0.7964850830379651-7.965850201685498e-15j))\n",
      "((1.4942980283690859-1.2423961952959737e-14j), (0.6493366346556542+1.0640793200575643e-14j), (0.9999999999870368-1.9232093644367427e-15j))\n",
      "[[ 0.89824254-9.88098492e-15j -0.02310511+3.01444907e-01j]\n",
      " [-0.02310511-3.01444907e-01j  0.10175746-1.91513472e-15j]]\n",
      "0:  (0.8982425415125112-9.880984919163893e-15j)\n",
      "1:  (0.10175745847454612-1.915134717478395e-15j)\n"
     ]
    }
   ],
   "source": [
    "print(np.trace(goal@goal.H))\n",
    "print(goal_reg)\n",
    "print(dm_to_bloch_vector(goal))\n",
    "print(dm_to_polar_coords(goal))\n",
    "print(goal)\n",
    "print('0: ', np.trace(np.outer(np.matrix([1,0]), np.matrix([1,0]).H) @ goal))\n",
    "print('1: ', np.trace(np.outer(np.matrix([0,1]), np.matrix([0,1]).H) @ goal))"
   ]
  },
  {
   "cell_type": "code",
   "execution_count": 61,
   "metadata": {},
   "outputs": [
    {
     "name": "stdout",
     "output_type": "stream",
     "text": [
      "1\n",
      "(7, 1, 15)\n",
      "((-1.1713460586910958e-16+0j), (-0.7071067811865474-1.6258839764163454e-17j), (0.7071067811865475+2.299347170293092e-17j))\n",
      "((1.5707963267948966+3.8089455753285884e-33j), (0.7853981633974483-4.7621039126979776e-18j), (0.9999999999999998+2.7755575615628914e-17j))\n",
      "[[ 8.53553391e-01+1.14967359e-17j -6.66967228e-17+3.53553391e-01j]\n",
      " [-5.04378831e-17-3.53553391e-01j  1.46446609e-01-1.14967359e-17j]]\n",
      "0:  (0.8535533905932736+1.149673585146546e-17j)\n",
      "1:  (0.1464466094067262-1.149673585146546e-17j)\n"
     ]
    }
   ],
   "source": [
    "psi = np.matrix([1,0])\n",
    "rho = np.matrix(np.outer(psi, psi.H))\n",
    "# rho = random_state_in_reg((0,0,15))\n",
    "print(np.trace(rho @ rho.H))\n",
    "\n",
    "for g in [0,1,0]:\n",
    "    rho = apply_operator(rho, GATES[g])\n",
    "print(dm_to_bloch_reg(rho))\n",
    "print(dm_to_bloch_vector(rho))\n",
    "print(dm_to_polar_coords(rho))\n",
    "print(rho)\n",
    "print('0: ', np.trace(np.outer(np.matrix([1,0]), np.matrix([1,0]).H) @ rho))\n",
    "print('1: ', np.trace(np.outer(np.matrix([0,1]), np.matrix([0,1]).H) @ rho))"
   ]
  },
  {
   "cell_type": "code",
   "execution_count": 62,
   "metadata": {},
   "outputs": [
    {
     "name": "stdout",
     "output_type": "stream",
     "text": [
      "........."
     ]
    },
    {
     "name": "stderr",
     "output_type": "stream",
     "text": [
      "C:\\Users\\nfber\\anaconda3\\envs\\qc\\lib\\site-packages\\ipykernel_launcher.py:16: RuntimeWarning: invalid value encountered in true_divide\n",
      "  app.launch_new_instance()\n"
     ]
    }
   ],
   "source": [
    "transitions = [np.zeros((len(states), len(states)), dtype=np.half) for i in range(len(GATES))]\n",
    "\n",
    "# building transition matrices\n",
    "for ind, s in enumerate(states):\n",
    "    if (ind % 500 == 0): print('.', end='')\n",
    "    for i in range(5):\n",
    "        rho = random_state_in_reg(s)\n",
    "        for j, gate in enumerate(GATES):\n",
    "            n_state = dm_to_bloch_reg(apply_operator(rho, gate))\n",
    "            n_state_ind = states.index(n_state)\n",
    "            state_ind = states.index(dm_to_bloch_reg(rho))\n",
    "            transitions[j][state_ind][n_state_ind] += 1\n",
    "\n",
    "for i in range(len(GATES)):\n",
    "    for j in range(len(states)):\n",
    "        transitions[i][j] = np.nan_to_num(transitions[i][j] / sum(transitions[i][j]))"
   ]
  },
  {
   "cell_type": "code",
   "execution_count": 543,
   "metadata": {},
   "outputs": [],
   "source": [
    "with np.load('transitions.npz') as data:\n",
    "    transitions = data['a']"
   ]
  },
  {
   "cell_type": "code",
   "execution_count": 63,
   "metadata": {},
   "outputs": [],
   "source": [
    "def R(state, action):\n",
    "    # pass\n",
    "    if (state == goal_reg):\n",
    "        return 1\n",
    "    #     if (action <= len(GATES) - 2):\n",
    "    #         return 0\n",
    "    #     else:\n",
    "    #         return 0.1 # to encourage using identity\n",
    "    else:\n",
    "        return 0"
   ]
  },
  {
   "cell_type": "code",
   "execution_count": 64,
   "metadata": {},
   "outputs": [],
   "source": [
    "def policy_eval(policy, discount_factor=0.9, epsilon=0.0001):\n",
    "    V_old = np.zeros(len(states))\n",
    "    while True:\n",
    "    # for i in range(1):\n",
    "        V_new = np.zeros(len(states))\n",
    "        delta = 0\n",
    "        for s, _ in enumerate(states):\n",
    "            v_fn = 0\n",
    "            action_probs = policy[s]\n",
    "            for a, _ in enumerate(GATES):\n",
    "                p_trans = transitions[a][s]\n",
    "                p_next_states = np.nonzero(transitions[a][s])[0]\n",
    "                for next_s in p_next_states:\n",
    "                    v_fn += action_probs[a] * p_trans[next_s] * (R(states[s], a) + discount_factor * V_old[next_s])\n",
    "            delta = max(delta, abs(v_fn - V_old[s]))\n",
    "            V_new[s] = v_fn\n",
    "        V_old = V_new\n",
    "        if(delta < epsilon):\n",
    "            break\n",
    "    return np.array(V_old)"
   ]
  },
  {
   "cell_type": "code",
   "execution_count": 65,
   "metadata": {},
   "outputs": [],
   "source": [
    "def policy_improvement(policy_eval_fn=policy_eval, discount_factor=0.9):      \n",
    "    def one_step_lookahead(s, V_old):\n",
    "        actions = np.zeros(len(GATES))\n",
    "        for a in range(len(GATES)):\n",
    "            v_fn = 0\n",
    "            p_trans = transitions[a][s]\n",
    "            p_next_states = np.nonzero(transitions[a][s])[0]\n",
    "            for next_s in p_next_states:\n",
    "                v_fn += p_trans[next_s] * (R(states[s], a) + discount_factor * V_old[next_s])\n",
    "            actions[a] = v_fn\n",
    "        return actions\n",
    "    policy = np.ones([len(states), len(GATES)]) / len(GATES)\n",
    "    actions_values = np.zeros(len(GATES))\n",
    "    \n",
    "    while True:\n",
    "        value_fn = policy_eval_fn(policy)\n",
    "        policy_stable = True\n",
    "        for s in range(len(states)):\n",
    "            actions_values = one_step_lookahead(s, value_fn)\n",
    "            best_action = np.argmax(actions_values)\n",
    "            chosen_action = np.argmax(policy[s])\n",
    "            if(best_action != chosen_action):\n",
    "                policy_stable = False\n",
    "            policy[s] = np.eye(len(GATES))[best_action]\n",
    "        \n",
    "        if(policy_stable):\n",
    "            return policy, value_fn"
   ]
  },
  {
   "cell_type": "code",
   "execution_count": 66,
   "metadata": {},
   "outputs": [],
   "source": [
    "policy, v = policy_improvement(policy_eval)"
   ]
  },
  {
   "cell_type": "code",
   "execution_count": 595,
   "metadata": {},
   "outputs": [],
   "source": [
    "np.savetxt('v.txt', v, fmt='%2f')"
   ]
  },
  {
   "cell_type": "code",
   "execution_count": 67,
   "metadata": {},
   "outputs": [
    {
     "data": {
      "text/plain": [
       "64"
      ]
     },
     "execution_count": 67,
     "metadata": {},
     "output_type": "execute_result"
    }
   ],
   "source": [
    "np.count_nonzero(v)"
   ]
  },
  {
   "cell_type": "code",
   "execution_count": 70,
   "metadata": {},
   "outputs": [
    {
     "name": "stdout",
     "output_type": "stream",
     "text": [
      "(0, 0, 15)\n",
      "(0, 1, 15)\n",
      "(0, 2, 15)\n",
      "(0, 3, 15)\n",
      "(0, 4, 15)\n",
      "(0, 5, 15)\n",
      "(0, 6, 15)\n",
      "(0, 7, 15)\n",
      "(1, 0, 15)\n",
      "(1, 1, 15)\n",
      "(1, 2, 15)\n",
      "(1, 3, 15)\n",
      "(1, 4, 15)\n",
      "(1, 5, 15)\n",
      "(1, 6, 15)\n",
      "(1, 7, 15)\n",
      "(2, 0, 15)\n",
      "(2, 1, 15)\n",
      "(2, 2, 15)\n",
      "(2, 3, 15)\n",
      "(2, 4, 15)\n",
      "(2, 5, 15)\n",
      "(2, 6, 15)\n",
      "(2, 7, 15)\n",
      "(3, 0, 15)\n",
      "(3, 1, 15)\n",
      "(3, 2, 15)\n",
      "(3, 3, 15)\n",
      "(3, 4, 15)\n",
      "(3, 5, 15)\n",
      "(3, 6, 15)\n",
      "(3, 7, 15)\n",
      "(4, 0, 15)\n",
      "(4, 1, 15)\n",
      "(4, 2, 15)\n",
      "(4, 3, 15)\n",
      "(4, 4, 15)\n",
      "(4, 5, 15)\n",
      "(4, 6, 15)\n",
      "(4, 7, 15)\n",
      "(5, 0, 15)\n",
      "(5, 1, 15)\n",
      "(5, 2, 15)\n",
      "(5, 3, 15)\n",
      "(5, 4, 15)\n",
      "(5, 5, 15)\n",
      "(5, 6, 15)\n",
      "(5, 7, 15)\n",
      "(6, 0, 15)\n",
      "(6, 1, 15)\n",
      "(6, 2, 15)\n",
      "(6, 3, 15)\n",
      "(6, 4, 15)\n",
      "(6, 5, 15)\n",
      "(6, 6, 15)\n",
      "(6, 7, 15)\n",
      "(7, 0, 15)\n",
      "(7, 1, 15)\n",
      "(7, 2, 15)\n",
      "(7, 3, 15)\n",
      "(7, 4, 15)\n",
      "(7, 5, 15)\n",
      "(7, 6, 15)\n",
      "(7, 7, 15)\n"
     ]
    }
   ],
   "source": [
    "for s in np.argwhere(v>0):\n",
    "    print(states[s[0]])"
   ]
  },
  {
   "cell_type": "code",
   "execution_count": 52,
   "metadata": {},
   "outputs": [
    {
     "name": "stdout",
     "output_type": "stream",
     "text": [
      "(0.870515376638716-4.387926769907144e-09j)\n",
      "(0.5687859073900382-4.433989446940021e-09j)\n",
      "(0.8705153734632788-1.9639491264975648e-09j)\n",
      "(0.5687859066203695-3.980132889633813e-09j)\n",
      "(0.8705153773771726-5.582581009277856e-09j)\n",
      "(0.5687859083483655-3.383414714720309e-09j)\n",
      "(0.870515377021319-4.200717889533577e-09j)\n",
      "(0.5687859074904232-4.206106810979554e-09j)\n",
      "(0.870515377754597-3.9802862351640105e-09j)\n",
      "(0.5687859077449888-3.3115776655042486e-09j)\n"
     ]
    },
    {
     "data": {
      "text/plain": [
       "[[0, 0, 0, 0, 0, 0, 0, 0, 0, 0]]"
      ]
     },
     "execution_count": 52,
     "metadata": {},
     "output_type": "execute_result"
    }
   ],
   "source": [
    "optimal_programs = []\n",
    "for i in range(1):\n",
    "    converged = False\n",
    "    # while not converged:\n",
    "    for j in range(1):\n",
    "        psi = np.matrix([1,0])\n",
    "        s = np.matrix(np.outer(psi, psi.H))\n",
    "        s = random_state_in_reg((0, 0, k-1))\n",
    "        prog = []\n",
    "        counter = 0\n",
    "        while counter < 10:\n",
    "            print(dm_fidelity(goal, s))\n",
    "            action = np.argmax(policy[states.index(dm_to_bloch_reg(s))])\n",
    "            next_s = apply_operator(s, GATES[action])\n",
    "            prog.append(action)\n",
    "            # next_s = random_state_in_reg(dm_to_bloch_reg(next_s))\n",
    "            s = next_s\n",
    "            counter += 1\n",
    "            if (dm_to_bloch_reg(s) == goal_reg):\n",
    "                print('converged')\n",
    "                converged = True\n",
    "                break\n",
    "        \n",
    "    optimal_programs.append(prog)\n",
    "optimal_programs"
   ]
  },
  {
   "cell_type": "code",
   "execution_count": 550,
   "metadata": {},
   "outputs": [
    {
     "name": "stderr",
     "output_type": "stream",
     "text": [
      "C:\\Users\\nfber\\anaconda3\\envs\\qc\\lib\\site-packages\\ipykernel_launcher.py:36: RuntimeWarning: invalid value encountered in cdouble_scalars\n"
     ]
    },
    {
     "data": {
      "text/plain": [
       "0"
      ]
     },
     "execution_count": 550,
     "metadata": {},
     "output_type": "execute_result"
    }
   ],
   "source": [
    "psi = np.matrix([1,0])\n",
    "s = np.matrix(np.outer(psi, psi.H))\n",
    "action = np.argmax(policy[states.index(dm_to_bloch_reg(s))])\n",
    "action"
   ]
  },
  {
   "cell_type": "code",
   "execution_count": 36,
   "metadata": {},
   "outputs": [
    {
     "data": {
      "text/plain": [
       "matrix([[0.5       , 0.48660254],\n",
       "        [0.48660254, 0.5       ]])"
      ]
     },
     "execution_count": 36,
     "metadata": {},
     "output_type": "execute_result"
    }
   ],
   "source": [
    "rho = np.matrix([[1/2, (np.sqrt(3)/20) + 2/5], [(np.sqrt(3)/20) + 2/5, 1/2]])\n"
   ]
  },
  {
   "cell_type": "code",
   "execution_count": 37,
   "metadata": {},
   "outputs": [
    {
     "name": "stdout",
     "output_type": "stream",
     "text": [
      "0.9732050807568877 0j 0.0\n"
     ]
    }
   ],
   "source": [
    "x = np.trace(np.matrix([[0,1],[1,0]]) @ rho)\n",
    "y = np.trace(np.matrix([[0,-1j],[1j,0]]) @ rho)\n",
    "z = np.trace(np.matrix([[1,0],[0,-1]]) @ rho)\n",
    "print(x,y,z)"
   ]
  },
  {
   "cell_type": "code",
   "execution_count": 39,
   "metadata": {},
   "outputs": [
    {
     "data": {
      "text/plain": [
       "array([[0.5       +0.j, 0.48660254+0.j],\n",
       "       [0.48660254+0.j, 0.5       +0.j]])"
      ]
     },
     "execution_count": 39,
     "metadata": {},
     "output_type": "execute_result"
    }
   ],
   "source": [
    "(np.eye(2) + x*np.array([[0,1],[1,0]]) + y*np.array([[0, -1j], [1j, 0]]) + z*np.array([[1,0], [0,-1]]))/2"
   ]
  },
  {
   "cell_type": "code",
   "execution_count": null,
   "metadata": {},
   "outputs": [],
   "source": []
  }
 ],
 "metadata": {
  "interpreter": {
   "hash": "36076d0e02b8d1858d0bd5b32bffaa710811761ccb670f476492e9c2dea26ac0"
  },
  "kernelspec": {
   "display_name": "Python 3.7.10 64-bit ('qc': conda)",
   "language": "python",
   "name": "python3"
  },
  "language_info": {
   "codemirror_mode": {
    "name": "ipython",
    "version": 3
   },
   "file_extension": ".py",
   "mimetype": "text/x-python",
   "name": "python",
   "nbconvert_exporter": "python",
   "pygments_lexer": "ipython3",
   "version": "3.7.10"
  },
  "orig_nbformat": 4
 },
 "nbformat": 4,
 "nbformat_minor": 2
}
