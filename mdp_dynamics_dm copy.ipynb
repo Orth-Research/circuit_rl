{
 "cells": [
  {
   "cell_type": "code",
   "execution_count": 303,
   "metadata": {},
   "outputs": [],
   "source": [
    "import numpy as np\n",
    "import pandas as pd\n",
    "import scipy.linalg\n",
    "from numpy.linalg import matrix_power"
   ]
  },
  {
   "cell_type": "code",
   "execution_count": 307,
   "metadata": {},
   "outputs": [],
   "source": [
    "def dm_to_bloch_reg(rho):\n",
    "    # rho is a density matrix\n",
    "    state = dm_to_bloch_vector(rho)\n",
    "    state = cartesian_to_spherical(state)\n",
    "\n",
    "    # state is now (theta, phi, r)\n",
    "    for i, intv in enumerate(thetas):\n",
    "        if (state[0] in intv):\n",
    "            theta_reg = i\n",
    "    for i, intv in enumerate(phis):\n",
    "        if (state[1] in intv):\n",
    "            phi_reg = i\n",
    "    for i, intv in enumerate(radii):\n",
    "        if (state[2] in intv):\n",
    "            r_reg = i\n",
    "\n",
    "    if (theta_reg == 0):\n",
    "        theta_reg = phi_reg = 0\n",
    "    if (theta_reg == len(thetas)-1):\n",
    "        theta_reg = len(thetas)-1\n",
    "        phi_reg = len(phis)-1\n",
    "\n",
    "    return (theta_reg, phi_reg, r_reg)\n",
    "\n",
    "def dm_to_bloch_vector(rho):\n",
    "    x = np.array([[0,1],[1,0]])\n",
    "    y = np.array([[0,-1j],[1j,0]])\n",
    "    z = np.array([[1,0],[0,-1]])\n",
    "\n",
    "    # where rho is a density matrix\n",
    "    return (np.trace(rho @ x).real, np.trace(rho @ y).real, np.trace(rho @ z).real)\n",
    "\n",
    "def dm_to_polar_coords(rho):\n",
    "    # rho is a density matrix\n",
    "    return cartesian_to_spherical(dm_to_bloch_vector(rho))\n",
    "\n",
    "def cartesian_to_spherical(state):\n",
    "    x = state[0]\n",
    "    y = state[1]\n",
    "    z = state[2]\n",
    "\n",
    "    r = min(np.sqrt(x**2 + y**2 + z**2), 1)\n",
    "    theta = max(0, np.arccos(z/r))\n",
    "    phi = np.arctan2(y.real, x.real)\n",
    "    if (phi < 0): phi += 2*np.pi\n",
    "\n",
    "    return (theta, phi, r)\n",
    "\n",
    "def spherical_to_cartesian(state):\n",
    "    theta = state[0]\n",
    "    phi = state[1]\n",
    "    r = state[2]\n",
    "\n",
    "    x = np.sin(theta) * np.cos(phi)\n",
    "    y = np.sin(theta) * np.sin(phi)\n",
    "    z = np.cos(theta)\n",
    "\n",
    "    if abs(x) < 0.0001:\n",
    "        x = 0\n",
    "    if abs(y) < 0.0001:\n",
    "        y = 0\n",
    "    if abs(z) < 0.0001:\n",
    "        z = 0\n",
    "    return (x, y, z)\n",
    "\n",
    "def random_state_in_reg(reg):\n",
    "    # where reg is a tuple specifying (theta, phi, radius)\n",
    "    # returns a density matrix\n",
    "    theta = np.random.uniform(thetas[reg[0]].left, thetas[reg[0]].right)\n",
    "\n",
    "    # maybe consider the poles as one state\n",
    "    if (reg[0] == 0 or reg == len(thetas)-1):\n",
    "        phi = np.random.uniform(0, 2*np.pi)\n",
    "    else:\n",
    "        phi = np.random.uniform(phis[reg[1]].left, phis[reg[1]].right)\n",
    "    # r = np.random.uniform(radii[reg[2]].left, radii[reg[2]].right)\n",
    "    r = 1\n",
    "\n",
    "    state = spherical_to_cartesian((theta, phi, r))\n",
    "    rho = (np.eye(2) + state[0]*np.array([[0,1],[1,0]]) + state[1]*np.array([[0, -1j], [1j, 0]]) + state[2]*np.array([[1,0], [0,-1]]))/2\n",
    "    return np.matrix(rho)\n",
    "\n",
    "def generate_target_state(n):\n",
    "    s = np.matrix([1, 0])\n",
    "    rho = np.outer(s, s.H)\n",
    "    \n",
    "    ht = GATES[0] @ GATES[1]\n",
    "    rho = matrix_power(ht, n) @ rho @ matrix_power(ht.H, n)\n",
    "        \n",
    "    return rho\n",
    "\n",
    "def apply_operator(rho, op): # add noise\n",
    "    return np.matrix(op @ rho @ op.H)\n",
    "\n",
    "def dm_fidelity(rho, sigma):\n",
    "    rho_sqrt = scipy.linalg.sqrtm(rho)\n",
    "    return np.trace(scipy.linalg.sqrtm(rho_sqrt @ sigma @ rho_sqrt))**2"
   ]
  },
  {
   "cell_type": "code",
   "execution_count": 310,
   "metadata": {},
   "outputs": [],
   "source": [
    "n = 10**8\n",
    "k = 16\n",
    "\n",
    "GATES = [\n",
    "    np.matrix([[1, 1], [1, -1]]) / np.sqrt(2), # H\n",
    "    np.matrix([[1, 0], [0, np.exp(1j * np.pi / 4)]]), # T\n",
    "    np.matrix([[1, 0], [0, 1]]) # I\n",
    "]\n",
    "\n",
    "goal = generate_target_state(n=n)\n",
    "thetas = np.array(pd.cut(np.linspace(0, np.pi, k), k, precision=10, include_lowest=True))\n",
    "thetas[0] = pd.Interval(0, thetas[0].right, closed='both')\n",
    "phis = np.array(pd.cut(np.linspace(0, 2*np.pi, k), k,  precision=10, include_lowest=True))\n",
    "phis[0] = pd.Interval(0, phis[0].right, closed='both')\n",
    "# rs = (1 - np.geomspace(1e-3, 1, k))[::-1]\n",
    "# rs[0] = 0\n",
    "# rs[-1] = 1\n",
    "# radii = pd.cut(np.linspace(0, 1, 1), 1, precision=10, include_lowest=True)\n",
    "radii = [pd.Interval(0, 1, closed='both')]\n",
    "goal_reg = dm_to_bloch_reg(goal)\n",
    "\n",
    "states = [(i, j, k) for i in range(len(thetas)) for j in range(len(phis)) for k in range(len(radii))]\n",
    "values = np.zeros(len(thetas) * len(phis) * len(radii))"
   ]
  },
  {
   "cell_type": "code",
   "execution_count": 311,
   "metadata": {},
   "outputs": [
    {
     "name": "stdout",
     "output_type": "stream",
     "text": [
      "(0.9999999678241469+0j)\n",
      "(0, 0, 0)\n",
      "(0.012715749262621721, 4.325563567729244, 0.9999999839120733)\n",
      "[[ 9.99959562e-01+8.41340886e-17j -2.39844544e-03+5.88794102e-03j]\n",
      " [-2.39844544e-03-5.88794102e-03j  4.04220245e-05-1.91598853e-18j]]\n",
      "0:  (0.9999595618875546+8.413408858487514e-17j)\n",
      "1:  (4.042202451868746e-05-1.9159885266892274e-18j)\n"
     ]
    }
   ],
   "source": [
    "print(np.trace(goal@goal.H))\n",
    "print(goal_reg)\n",
    "# print(dm_to_bloch_vector(goal))\n",
    "print(dm_to_polar_coords(goal))\n",
    "print(goal)\n",
    "print('0: ', np.trace(np.outer(np.matrix([1,0]), np.matrix([1,0]).H) @ goal))\n",
    "print('1: ', np.trace(np.outer(np.matrix([0,1]), np.matrix([0,1]).H) @ goal))"
   ]
  },
  {
   "cell_type": "code",
   "execution_count": 249,
   "metadata": {},
   "outputs": [
    {
     "name": "stderr",
     "output_type": "stream",
     "text": [
      "C:\\Users\\nfber\\anaconda3\\envs\\qc\\lib\\site-packages\\ipykernel_launcher.py:15: RuntimeWarning: invalid value encountered in true_divide\n",
      "  from ipykernel import kernelapp as app\n"
     ]
    }
   ],
   "source": [
    "transitions = [np.zeros((len(states), len(states)), dtype=np.half) for i in range(len(GATES))]\n",
    "\n",
    "# building transition matrices\n",
    "for s in states:\n",
    "    for i in range(100):\n",
    "        state = random_state_in_reg(s)\n",
    "        for j in range(len(GATES)):\n",
    "            state_ind = states.index(dm_to_bloch_reg(state))\n",
    "            n_state = apply_operator(state, GATES[j])\n",
    "            n_state_ind = states.index(dm_to_bloch_reg(n_state))\n",
    "            transitions[j][state_ind][n_state_ind] += 1\n",
    "\n",
    "for i in range(len(GATES)):\n",
    "    for j in range(len(states)):\n",
    "        transitions[i][j] = np.nan_to_num(transitions[i][j] / sum(transitions[i][j]))"
   ]
  },
  {
   "cell_type": "code",
   "execution_count": 250,
   "metadata": {},
   "outputs": [
    {
     "data": {
      "text/plain": [
       "array([0.  , 0.  , 0.  , 0.  , 0.  , 0.  , 0.  , 0.  , 0.  , 0.  , 0.  ,\n",
       "       0.  , 0.  , 0.  , 0.  , 0.  , 0.  , 0.  , 0.  , 0.  , 0.  , 0.  ,\n",
       "       0.  , 0.  , 0.  , 0.  , 0.  , 0.  , 0.  , 0.  , 0.  , 0.  , 0.  ,\n",
       "       0.  , 0.  , 0.  , 0.  , 0.  , 0.  , 0.  , 0.  , 0.  , 0.  , 0.  ,\n",
       "       0.  , 0.  , 0.  , 0.  , 0.  , 0.  , 0.  , 0.  , 0.  , 0.  , 0.  ,\n",
       "       0.  , 0.  , 0.  , 0.  , 0.  , 0.  , 0.  , 0.  , 0.  , 0.  , 0.  ,\n",
       "       0.  , 0.  , 0.  , 0.  , 0.  , 0.  , 0.  , 0.  , 0.  , 0.  , 0.  ,\n",
       "       0.  , 0.  , 0.  , 0.  , 0.  , 0.  , 0.  , 0.  , 0.  , 0.  , 0.  ,\n",
       "       0.  , 0.  , 0.  , 0.  , 0.  , 0.  , 0.06, 0.55, 0.  , 0.  , 0.  ,\n",
       "       0.  , 0.  , 0.  , 0.  , 0.  , 0.  , 0.  , 0.  , 0.  , 0.  , 0.  ,\n",
       "       0.01, 0.38, 0.  , 0.  , 0.  , 0.  , 0.  , 0.  , 0.  , 0.  , 0.  ,\n",
       "       0.  , 0.  , 0.  , 0.  , 0.  , 0.  , 0.  , 0.  , 0.  , 0.  , 0.  ,\n",
       "       0.  , 0.  , 0.  , 0.  , 0.  , 0.  , 0.  , 0.  , 0.  , 0.  , 0.  ,\n",
       "       0.  , 0.  , 0.  , 0.  , 0.  , 0.  , 0.  , 0.  , 0.  , 0.  , 0.  ,\n",
       "       0.  , 0.  , 0.  , 0.  , 0.  , 0.  , 0.  , 0.  , 0.  , 0.  , 0.  ,\n",
       "       0.  , 0.  , 0.  , 0.  , 0.  , 0.  , 0.  , 0.  , 0.  , 0.  , 0.  ,\n",
       "       0.  , 0.  , 0.  , 0.  , 0.  , 0.  , 0.  , 0.  , 0.  , 0.  , 0.  ,\n",
       "       0.  , 0.  , 0.  , 0.  , 0.  , 0.  , 0.  , 0.  , 0.  , 0.  , 0.  ,\n",
       "       0.  , 0.  , 0.  , 0.  , 0.  , 0.  , 0.  , 0.  , 0.  , 0.  , 0.  ,\n",
       "       0.  , 0.  , 0.  , 0.  , 0.  , 0.  , 0.  , 0.  , 0.  , 0.  , 0.  ,\n",
       "       0.  , 0.  , 0.  , 0.  , 0.  , 0.  , 0.  , 0.  , 0.  , 0.  , 0.  ,\n",
       "       0.  , 0.  , 0.  , 0.  , 0.  , 0.  , 0.  , 0.  , 0.  , 0.  , 0.  ,\n",
       "       0.  , 0.  , 0.  , 0.  , 0.  , 0.  , 0.  , 0.  , 0.  , 0.  , 0.  ,\n",
       "       0.  , 0.  , 0.  ], dtype=float16)"
      ]
     },
     "execution_count": 250,
     "metadata": {},
     "output_type": "execute_result"
    }
   ],
   "source": [
    "transitions[0][33]"
   ]
  },
  {
   "cell_type": "code",
   "execution_count": 251,
   "metadata": {},
   "outputs": [],
   "source": [
    "def R(state, action):\n",
    "    # pass\n",
    "    if (state == goal_reg):\n",
    "        return 1\n",
    "    #     if (action <= len(GATES) - 2):\n",
    "    #         return 0\n",
    "    #     else:\n",
    "    #         return 0.1 # to encourage using identity\n",
    "    else:\n",
    "        return 0"
   ]
  },
  {
   "cell_type": "code",
   "execution_count": 275,
   "metadata": {},
   "outputs": [],
   "source": [
    "def policy_eval(policy, discount_factor=0.8, epsilon=0.000001):\n",
    "    V_old = np.zeros(len(states))\n",
    "    while True:\n",
    "    # for i in range(1):\n",
    "        V_new = np.zeros(len(states))\n",
    "        delta = 0\n",
    "        for s, _ in enumerate(states):\n",
    "            v_fn = 0\n",
    "            action_probs = policy[s]\n",
    "            for a, _ in enumerate(GATES):\n",
    "                p_trans = transitions[a][s]\n",
    "                p_next_states = np.nonzero(transitions[a][s])[0]\n",
    "                for next_s in p_next_states:\n",
    "                    v_fn += action_probs[a] * p_trans[next_s] * (R(states[s], a) + discount_factor * V_old[next_s])\n",
    "            delta = max(delta, abs(v_fn - V_old[s]))\n",
    "            V_new[s] = v_fn\n",
    "        V_old = V_new\n",
    "        if(delta < epsilon):\n",
    "            break\n",
    "    # since technically the entire north/south pole is one state, copy (0, 0) and (k-1, k-1) over\n",
    "    # won't ever be used, but it is needed for the visualization\n",
    "    for i in range(1, len(phis)):\n",
    "        V_old[i] = V_old[0]\n",
    "        V_old[len(thetas)*len(phis)-1-i] = V_old[len(thetas)*len(phis)-1]\n",
    "    return np.array(V_old)"
   ]
  },
  {
   "cell_type": "code",
   "execution_count": 276,
   "metadata": {},
   "outputs": [],
   "source": [
    "def policy_improvement(policy_eval_fn=policy_eval, discount_factor=0.8):      \n",
    "    def one_step_lookahead(s, V_old):\n",
    "        actions = np.zeros(len(GATES))\n",
    "        for a in range(len(GATES)):\n",
    "            v_fn = 0\n",
    "            p_trans = transitions[a][s]\n",
    "            p_next_states = np.nonzero(transitions[a][s])[0]\n",
    "            for next_s in p_next_states:\n",
    "                v_fn += p_trans[next_s] * (R(states[s], a) + discount_factor * V_old[next_s])\n",
    "            actions[a] = v_fn\n",
    "        return actions\n",
    "    policy = np.ones([len(states), len(GATES)]) / len(GATES)\n",
    "    actions_values = np.zeros(len(GATES))\n",
    "    \n",
    "    while True:\n",
    "        value_fn = policy_eval_fn(policy)\n",
    "        policy_stable = True\n",
    "        for s in range(len(states)):\n",
    "            actions_values = one_step_lookahead(s, value_fn)\n",
    "            best_action = np.argmax(actions_values)\n",
    "            chosen_action = np.argmax(policy[s])\n",
    "            if(best_action != chosen_action):\n",
    "                policy_stable = False\n",
    "            policy[s] = np.eye(len(GATES))[best_action]\n",
    "        \n",
    "        if(policy_stable):\n",
    "            return policy, value_fn"
   ]
  },
  {
   "cell_type": "code",
   "execution_count": 312,
   "metadata": {},
   "outputs": [],
   "source": [
    "policy, v = policy_improvement(policy_eval)"
   ]
  },
  {
   "cell_type": "code",
   "execution_count": 313,
   "metadata": {},
   "outputs": [
    {
     "data": {
      "text/plain": [
       "256"
      ]
     },
     "execution_count": 313,
     "metadata": {},
     "output_type": "execute_result"
    }
   ],
   "source": [
    "np.count_nonzero(v)"
   ]
  },
  {
   "cell_type": "code",
   "execution_count": 314,
   "metadata": {},
   "outputs": [
    {
     "data": {
      "text/plain": [
       "array([4.99999608, 4.99999608, 4.99999608, 4.99999608, 4.99999608,\n",
       "       4.99999608, 4.99999608, 4.99999608, 4.99999608, 4.99999608,\n",
       "       4.99999608, 4.99999608, 4.99999608, 4.99999608, 4.99999608,\n",
       "       4.99999608, 1.4469387 , 1.5885998 , 1.8106244 , 1.98575073,\n",
       "       1.90135308, 1.69260513, 1.11031356, 1.26798305, 1.38789293,\n",
       "       1.58497979, 1.73486715, 1.98122572, 2.109929  , 1.81919591,\n",
       "       1.15755017, 1.27087905, 1.00237587, 1.34489767, 1.25297082,\n",
       "       1.68112306, 1.56621451, 0.70294847, 0.50468379, 0.47707264,\n",
       "       0.56855683, 0.59634178, 0.71069701, 0.68858569, 0.68854497,\n",
       "       0.86073309, 0.80189991, 1.07591735, 0.8641963 , 1.16382339,\n",
       "       1.08024636, 1.45478021, 1.35030893, 0.53105246, 0.37600023,\n",
       "       0.46620809, 0.47000126, 0.51204287, 0.58750256, 0.60318574,\n",
       "       0.6069545 , 0.74484556, 0.71845869, 0.93105793, 0.77614403,\n",
       "       1.01895252, 0.97018102, 1.27369164, 1.21272725, 0.42113178,\n",
       "       0.34972009, 0.46296272, 0.43715109, 0.57870438, 0.54643984,\n",
       "       0.56350335, 0.66673619, 0.70420067, 0.83342122, 0.81516123,\n",
       "       0.73211901, 0.97358253, 0.88980304, 1.21697915, 1.11225478,\n",
       "       0.41077434, 0.43353661, 0.44833589, 0.54192174, 0.55481082,\n",
       "       0.54718713, 0.57184785, 0.68398489, 0.7148108 , 0.8549821 ,\n",
       "       0.87306102, 0.90653619, 0.81096394, 0.75311131, 1.0137059 ,\n",
       "       0.94139012, 0.41475075, 0.4497835 , 0.48866961, 0.56223035,\n",
       "       0.61083799, 0.64751703, 0.76354847, 0.75903736, 0.95443657,\n",
       "       0.944118  , 1.1930467 , 2.63741223, 0.74732733, 0.7407036 ,\n",
       "       0.93416014, 0.92588049, 0.81336118, 0.8642246 , 1.01670246,\n",
       "       1.08028173, 1.27087905, 1.35035315, 1.5885998 , 1.68794242,\n",
       "       1.98575073, 2.109929  , 2.48218939, 2.47653313, 0.75268603,\n",
       "       0.70903861, 0.94085852, 0.88629925, 0.77879191, 0.81150774,\n",
       "       0.97349087, 1.01438566, 1.21686456, 1.26798305, 1.52108168,\n",
       "       1.58497979, 1.90135308, 1.98122572, 2.37669234, 1.00984021,\n",
       "       0.75951508, 0.67923047, 0.94939483, 0.84903906, 0.37190536,\n",
       "       0.41322   , 0.46488268, 0.46702155, 0.54283434, 0.58377792,\n",
       "       0.6785439 , 0.72972338, 0.71379353, 0.80787139, 0.74801013,\n",
       "       0.50911441, 0.69334757, 0.63639399, 0.86668544, 0.79549347,\n",
       "       0.35724165, 0.36624625, 0.37240027, 0.33267898, 0.37070664,\n",
       "       0.4158497 , 0.46338429, 0.51981311, 0.44374103, 0.40729074,\n",
       "       0.55467727, 0.54210847, 0.73177814, 0.67763656, 0.91472366,\n",
       "       0.84704669, 0.36490638, 0.31615234, 0.31577481, 0.34978839,\n",
       "       0.38806481, 0.43723647, 0.48508199, 0.54654656, 0.4683366 ,\n",
       "       0.43368599, 0.58542173, 0.51603044, 0.7202412 , 0.64503904,\n",
       "       0.90030248, 0.80629977, 0.38605748, 0.31655652, 0.37053145,\n",
       "       0.39569663, 0.4631653 , 0.49462176, 0.5789576 , 0.61827818,\n",
       "       0.46095296, 0.41282357, 0.57619218, 0.61446513, 0.80298254,\n",
       "       0.76754643, 1.00372916, 0.95943401, 0.45069487, 0.35376965,\n",
       "       0.41592249, 0.44221305, 0.51990409, 0.55276729, 0.6498811 ,\n",
       "       0.69096009, 0.51390741, 0.49157132, 0.64238525, 0.61164065,\n",
       "       0.6913789 , 0.76455179, 0.8642246 , 0.81150774, 0.72833405,\n",
       "       0.4698485 , 0.49889724, 0.56434754, 0.62362253, 0.70543541,\n",
       "       0.77952914, 0.81336118, 0.69526802, 0.48931174, 0.55310233,\n",
       "       0.81703797, 0.81703797, 0.81703797, 0.81703797, 0.81703797,\n",
       "       0.81703797, 0.81703797, 0.81703797, 0.81703797, 0.81703797,\n",
       "       0.81703797, 0.81703797, 0.81703797, 0.81703797, 0.81703797,\n",
       "       0.81703797])"
      ]
     },
     "execution_count": 314,
     "metadata": {},
     "output_type": "execute_result"
    }
   ],
   "source": [
    "v"
   ]
  },
  {
   "cell_type": "code",
   "execution_count": 315,
   "metadata": {},
   "outputs": [
    {
     "name": "stdout",
     "output_type": "stream",
     "text": [
      "converged\n",
      "converged\n",
      "converged\n",
      "converged\n",
      "converged\n",
      "converged\n",
      "converged\n",
      "converged\n",
      "converged\n",
      "converged\n",
      "converged\n",
      "converged\n",
      "converged\n",
      "converged\n",
      "converged\n",
      "converged\n"
     ]
    },
    {
     "data": {
      "text/plain": [
       "[[1],\n",
       " [1],\n",
       " [1],\n",
       " [1],\n",
       " [1],\n",
       " [1],\n",
       " [1],\n",
       " [1],\n",
       " [1],\n",
       " [1],\n",
       " [1],\n",
       " [1],\n",
       " [1],\n",
       " [1],\n",
       " [1],\n",
       " [1]]"
      ]
     },
     "execution_count": 315,
     "metadata": {},
     "output_type": "execute_result"
    }
   ],
   "source": [
    "optimal_programs = []\n",
    "for i in range(k):\n",
    "    converged = False\n",
    "    while not converged:\n",
    "        s = random_state_in_reg((0, 0, 0))\n",
    "        prog = []\n",
    "        counter = 0\n",
    "        while counter < 30:\n",
    "            action = np.argmax(policy[states.index(dm_to_bloch_reg(s))])\n",
    "            next_s = apply_operator(s, GATES[action])\n",
    "            prog.append(action)\n",
    "            # next_s = random_state_in_reg(dm_to_bloch_reg(next_s))\n",
    "            s = next_s\n",
    "            counter += 1\n",
    "            if (dm_to_bloch_reg(s) == goal_reg):\n",
    "                print('converged')\n",
    "                converged = True\n",
    "                break\n",
    "        \n",
    "    optimal_programs.append(prog)\n",
    "optimal_programs"
   ]
  },
  {
   "cell_type": "code",
   "execution_count": 316,
   "metadata": {},
   "outputs": [
    {
     "name": "stdout",
     "output_type": "stream",
     "text": [
      "[1] (0.9999595620244383+1.3688449738429297e-10j)\n",
      "[1] (0.9999595620244383+1.3688449738429297e-10j)\n",
      "[1] (0.9999595620244383+1.3688449738429297e-10j)\n",
      "[1] (0.9999595620244383+1.3688449738429297e-10j)\n",
      "[1] (0.9999595620244383+1.3688449738429297e-10j)\n",
      "[1] (0.9999595620244383+1.3688449738429297e-10j)\n",
      "[1] (0.9999595620244383+1.3688449738429297e-10j)\n",
      "[1] (0.9999595620244383+1.3688449738429297e-10j)\n",
      "[1] (0.9999595620244383+1.3688449738429297e-10j)\n",
      "[1] (0.9999595620244383+1.3688449738429297e-10j)\n",
      "[1] (0.9999595620244383+1.3688449738429297e-10j)\n",
      "[1] (0.9999595620244383+1.3688449738429297e-10j)\n",
      "[1] (0.9999595620244383+1.3688449738429297e-10j)\n",
      "[1] (0.9999595620244383+1.3688449738429297e-10j)\n",
      "[1] (0.9999595620244383+1.3688449738429297e-10j)\n",
      "[1] (0.9999595620244383+1.3688449738429297e-10j)\n"
     ]
    }
   ],
   "source": [
    "for prog in optimal_programs:\n",
    "    psi = np.matrix([1,0])\n",
    "    rho = np.matrix(np.outer(psi, psi.H))\n",
    "\n",
    "    for g in prog:\n",
    "        rho = apply_operator(rho, GATES[g])\n",
    "    print(prog, dm_fidelity(goal, rho))"
   ]
  },
  {
   "cell_type": "code",
   "execution_count": null,
   "metadata": {},
   "outputs": [],
   "source": []
  }
 ],
 "metadata": {
  "interpreter": {
   "hash": "36076d0e02b8d1858d0bd5b32bffaa710811761ccb670f476492e9c2dea26ac0"
  },
  "kernelspec": {
   "display_name": "Python 3.7.10 64-bit ('qc': conda)",
   "language": "python",
   "name": "python3"
  },
  "language_info": {
   "codemirror_mode": {
    "name": "ipython",
    "version": 3
   },
   "file_extension": ".py",
   "mimetype": "text/x-python",
   "name": "python",
   "nbconvert_exporter": "python",
   "pygments_lexer": "ipython3",
   "version": "3.7.10"
  },
  "orig_nbformat": 4
 },
 "nbformat": 4,
 "nbformat_minor": 2
}
